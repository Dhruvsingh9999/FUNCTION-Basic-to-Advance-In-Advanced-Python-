{
 "cells": [
  {
   "cell_type": "markdown",
   "metadata": {},
   "source": [
    "\n",
    "<h1 align='center' style='color:orange'>Functional Programming Tutorial</h1>\n",
    "\n",
    "### **Function and Its Need**\n",
    "A function is a block of reusable code that performs a specific task. It helps to improve code modularity and reusability.\n",
    "\n",
    "### **How to Create Functions**\n",
    "In Python, you can create a function using the `def` keyword.\n",
    "\n",
    "```python\n",
    "# Defining a function\n",
    "def greet():\n",
    "    print(\"Hello, World!\")\n",
    "```\n",
    "\n",
    "### **Parameters and Arguments**\n",
    "Functions can accept parameters to process dynamic inputs.\n",
    "\n",
    "```python\n",
    "# Function with parameters\n",
    "def greet(name):\n",
    "    print(f\"Hello, {name}!\")\n",
    "\n",
    "greet(\"Dhruv\")  # Output: Hello, Dhruv!\n",
    "```\n",
    "\n",
    "### **Return Statement**\n",
    "The `return` statement allows a function to return a value.\n",
    "\n",
    "```python\n",
    "# Function with return statement\n",
    "def add(a, b):\n",
    "    return a + b\n",
    "\n",
    "sum_result = add(5, 3)\n",
    "print(sum_result)  # Output: 8\n",
    "```\n"
   ]
  },
  {
   "cell_type": "markdown",
   "metadata": {},
   "source": [
    "\n",
    "<h1 align='center' style='color:orange'>Function in Programming</h1>\n",
    "\n",
    "- **Reusability**: Write code once and use it multiple times, reducing redundancy.  \n",
    "- **Modularity**: Functions are organized blocks of reusable code that make programs more structured.  \n",
    "- **Multiple Calls**: A function can be called any number of times within a program.  \n",
    "- **Task-Oriented**: Each function contains a set of instructions to perform a specific task (e.g., addition).  \n",
    "- **Easier Testing & Debugging**: Debugging becomes simpler as functions can be tested independently.  \n",
    "- **Improved Readability**: Code becomes cleaner and more understandable when divided into functions.  \n",
    "- **Efficient Code Management**: Enhances maintainability and scalability of code.  \n",
    "- **Advanced Concepts**: Functions support:\n",
    "  - **Recursion**: A function calling itself for tasks like factorial calculation.  \n",
    "  - **Decorators**: Modify behavior of other functions in languages like Python.  \n",
    "  - **Higher-Order Functions**: Functions that take other functions as arguments or return them.  \n",
    "  - **Closures**: Functions that retain access to variables even after their execution context ends.  \n"
   ]
  },
  {
   "cell_type": "markdown",
   "metadata": {},
   "source": [
    "<h1 align='center' style='color:orange'> Types of Functions in Python  </h1>\n",
    "Python provides two main types of functions:  \n",
    "\n",
    "### **1. Built-in Functions**  \n",
    "- These are pre-defined functions provided by Python.  \n",
    "- Example: `print()`, `len()`, `type()`, `range()`, `sum()`, etc.  \n",
    "\n",
    "### **2. User-Defined Functions**  \n",
    "- These are functions created by programmers to perform specific tasks.  \n",
    "- Defined using the `def` keyword.  \n",
    "- Example:  \n",
    "\n",
    "```python\n",
    "def greet(name):  \n",
    "    return f\"Hello, {name}!\"  \n",
    "\n",
    "print(greet(\"Dhruv\"))  \n"
   ]
  },
  {
   "cell_type": "code",
   "execution_count": 1,
   "metadata": {},
   "outputs": [
    {
     "name": "stdout",
     "output_type": "stream",
     "text": [
      "8\n"
     ]
    }
   ],
   "source": [
    "#built-in function\n",
    "str1 = \"shantanu\"\n",
    "print(len(str1))"
   ]
  },
  {
   "cell_type": "code",
   "execution_count": 2,
   "metadata": {},
   "outputs": [
    {
     "name": "stdout",
     "output_type": "stream",
     "text": [
      "Welcome!\n",
      "hello world\n",
      "--------------------------------------------------\n",
      "Welcome!\n",
      "hello shantanu\n"
     ]
    }
   ],
   "source": [
    "#user-defined function\n",
    "#it have two types: 1)parameterized 2)non-parameterized\n",
    " \n",
    "#parameterized: which have parameters\n",
    "def display(message):\n",
    "    print(\"Welcome!\")\n",
    "    print(message)\n",
    "    \n",
    "display(\"hello world\")\n",
    "print(\"-\"*50)\n",
    "display(\"hello shantanu\")"
   ]
  },
  {
   "cell_type": "code",
   "execution_count": 3,
   "metadata": {},
   "outputs": [
    {
     "name": "stdout",
     "output_type": "stream",
     "text": [
      "Welcome!\n",
      "hello world\n",
      "--------------------------------------------------\n",
      "Welcome!\n",
      "hello world\n"
     ]
    }
   ],
   "source": [
    "#non-parameterized: which do not have parameters\n",
    "def display():\n",
    "    print(\"Welcome!\")\n",
    "    print(\"hello world\")\n",
    "\n",
    "display()\n",
    "print(\"-\"*50)\n",
    "display()"
   ]
  },
  {
   "cell_type": "code",
   "execution_count": 31,
   "metadata": {},
   "outputs": [
    {
     "name": "stdout",
     "output_type": "stream",
     "text": [
      "Welcome!\n"
     ]
    }
   ],
   "source": [
    "#non-parameterized: which do not have parameters\n",
    "def display():\n",
    "    print(\"Welcome!\")\n",
    "    message = input(\"Enter your message: \")\n",
    "    print(message)\n",
    "\n",
    "display()\n",
    "print(\"-\"*50)\n",
    "display()"
   ]
  },
  {
   "cell_type": "code",
   "execution_count": 5,
   "metadata": {},
   "outputs": [
    {
     "name": "stdout",
     "output_type": "stream",
     "text": [
      "110\n",
      "3000\n",
      "1100\n"
     ]
    }
   ],
   "source": [
    "#parameters VS arguments\n",
    "\n",
    "def add(a,b): #parameters\n",
    "    print(a+b)\n",
    "    \n",
    "add(50,60) #arguments\n",
    "add(1000,2000)  \n",
    "add(500,600)\n",
    "\n",
    "#parameters:- formal arguments\n",
    "#arguments:- actual arguments\n"
   ]
  },
  {
   "cell_type": "code",
   "execution_count": 18,
   "metadata": {},
   "outputs": [
    {
     "name": "stdout",
     "output_type": "stream",
     "text": [
      "0.6\n",
      "--------------------------------------------------\n"
     ]
    }
   ],
   "source": [
    "\n",
    "\n",
    "def simple_interest(p,t,r):\n",
    "    si = (p*t*r)/100\n",
    "    return si\n",
    "p=(float(input(\"principle amount:\")))\n",
    "t=(float(input(\"number of year:\")))\n",
    "r=(float(input(\"rate of interest:\")))\n",
    "data = simple_interest(p,t,r)\n",
    "print(data)\n",
    "print(\"-\"*50)"
   ]
  },
  {
   "cell_type": "code",
   "execution_count": 7,
   "metadata": {},
   "outputs": [],
   "source": [
    "#Scope in programming \n",
    "#in programming ,the term \"scope\" refers to the region of code where an identifier can be accessed\n",
    "#scope of a variable is the portion of a program where the variable is recognized"
   ]
  },
  {
   "cell_type": "code",
   "execution_count": 8,
   "metadata": {},
   "outputs": [
    {
     "name": "stdout",
     "output_type": "stream",
     "text": [
      "dhruv is 20 years old\n",
      "3\n",
      "18\n",
      "20\n"
     ]
    }
   ],
   "source": [
    "#local identifier\n",
    "def display(name):\n",
    "    age = 20  #local variable\n",
    "    x = 18\n",
    "    print(f\"{name} is {age} years old\")\n",
    "    variables = locals()\n",
    "    print(len(variables))\n",
    "    print(variables['x'])\n",
    "    print (age)\n",
    "    \n",
    "display(\"dhruv\")\n",
    "#print(age) #this will give error because age is local variable"
   ]
  },
  {
   "cell_type": "code",
   "execution_count": 9,
   "metadata": {},
   "outputs": [
    {
     "name": "stdout",
     "output_type": "stream",
     "text": [
      "jay\n",
      "india\n"
     ]
    }
   ],
   "source": [
    "#global identifier\n",
    "country = \"india\"\n",
    "def display():\n",
    "    name = \"jay\"\n",
    "    print(name)\n",
    "    print(country)\n",
    "display()"
   ]
  },
  {
   "cell_type": "code",
   "execution_count": 10,
   "metadata": {},
   "outputs": [
    {
     "name": "stdout",
     "output_type": "stream",
     "text": [
      "inside 20\n",
      "outside 10\n"
     ]
    }
   ],
   "source": [
    "num = 10 \n",
    "def display():\n",
    "    num = 20\n",
    "    print(\"inside\",num)\n",
    "    \n",
    "display()\n",
    "print(\"outside\",num)"
   ]
  },
  {
   "cell_type": "code",
   "execution_count": 11,
   "metadata": {},
   "outputs": [
    {
     "name": "stdout",
     "output_type": "stream",
     "text": [
      "{'__name__': '__main__', '__doc__': 'Automatically created module for IPython interactive environment', '__package__': None, '__loader__': None, '__spec__': None, '__builtin__': <module 'builtins' (built-in)>, '__builtins__': <module 'builtins' (built-in)>, '_ih': ['', '#built-in function\\nstr1 = \"shantanu\"\\nprint(len(str1))', '#user-defined function\\n#it have two types: 1)parameterized 2)non-parameterized\\n \\n#parameterized: which have parameters\\ndef display(message):\\n    print(\"Welcome!\")\\n    print(message)\\n    \\ndisplay(\"hello world\")\\nprint(\"-\"*50)\\ndisplay(\"hello shantanu\")', '#non-parameterized: which do not have parameters\\ndef display():\\n    print(\"Welcome!\")\\n    print(\"hello world\")\\n\\ndisplay()\\nprint(\"-\"*50)\\ndisplay()', '# some codes are not support in jupitor notebook so i made a additional page for functional programming', '#parameters VS arguments\\n\\ndef add(a,b): #parameters\\n    print(a+b)\\n    \\nadd(50,60) #arguments\\nadd(1000,2000)  \\nadd(500,600)\\n\\n#parameters:- formal arguments\\n#arguments:- actual arguments', 'def simple_interest(p,t,r):\\n    print(\"principle amount:\",p)\\n    print(\"number of year:\",t)\\n    print(\"rate of interest:\",r)\\n    si = (p*t*r)/100\\n    print(\"simple interest:\",si)\\n    \\nsimple_interest(1000,2,15.8)\\nprint(\"-\"*50)\\nsimple_interest(2000,3,57)\\nprint(\"-\"*50)\\nsimple_interest(5000,4,11.5)\\n\\n    ', '#Scope in programming \\n#in programming ,the term \"scope\" refers to the region of code where an identifier can be accessed\\n#scope of a variable is the portion of a program where the variable is recognized', '#local identifier\\ndef display(name):\\n    age = 20  #local variable\\n    x = 18\\n    print(f\"{name} is {age} years old\")\\n    variables = locals()\\n    print(len(variables))\\n    print(variables[\\'x\\'])\\n    print (age)\\n    \\ndisplay(\"dhruv\")\\n#print(age) #this will give error because age is local variable', '#global identifier\\ncountry = \"india\"\\ndef display():\\n    name = \"jay\"\\n    print(name)\\n    print(country)\\ndisplay()', 'num = 10 \\ndef display():\\n    num = 20\\n    print(\"inside\",num)\\n    \\ndisplay()\\nprint(\"outside\",num)', 'name = \"dhruv\"\\ndef display():\\n    age = 23 \\n\\ndisplay()\\nprint(globals())'], '_oh': {}, '_dh': [WindowsPath('d:/Programming/advanced python')], 'In': ['', '#built-in function\\nstr1 = \"shantanu\"\\nprint(len(str1))', '#user-defined function\\n#it have two types: 1)parameterized 2)non-parameterized\\n \\n#parameterized: which have parameters\\ndef display(message):\\n    print(\"Welcome!\")\\n    print(message)\\n    \\ndisplay(\"hello world\")\\nprint(\"-\"*50)\\ndisplay(\"hello shantanu\")', '#non-parameterized: which do not have parameters\\ndef display():\\n    print(\"Welcome!\")\\n    print(\"hello world\")\\n\\ndisplay()\\nprint(\"-\"*50)\\ndisplay()', '# some codes are not support in jupitor notebook so i made a additional page for functional programming', '#parameters VS arguments\\n\\ndef add(a,b): #parameters\\n    print(a+b)\\n    \\nadd(50,60) #arguments\\nadd(1000,2000)  \\nadd(500,600)\\n\\n#parameters:- formal arguments\\n#arguments:- actual arguments', 'def simple_interest(p,t,r):\\n    print(\"principle amount:\",p)\\n    print(\"number of year:\",t)\\n    print(\"rate of interest:\",r)\\n    si = (p*t*r)/100\\n    print(\"simple interest:\",si)\\n    \\nsimple_interest(1000,2,15.8)\\nprint(\"-\"*50)\\nsimple_interest(2000,3,57)\\nprint(\"-\"*50)\\nsimple_interest(5000,4,11.5)\\n\\n    ', '#Scope in programming \\n#in programming ,the term \"scope\" refers to the region of code where an identifier can be accessed\\n#scope of a variable is the portion of a program where the variable is recognized', '#local identifier\\ndef display(name):\\n    age = 20  #local variable\\n    x = 18\\n    print(f\"{name} is {age} years old\")\\n    variables = locals()\\n    print(len(variables))\\n    print(variables[\\'x\\'])\\n    print (age)\\n    \\ndisplay(\"dhruv\")\\n#print(age) #this will give error because age is local variable', '#global identifier\\ncountry = \"india\"\\ndef display():\\n    name = \"jay\"\\n    print(name)\\n    print(country)\\ndisplay()', 'num = 10 \\ndef display():\\n    num = 20\\n    print(\"inside\",num)\\n    \\ndisplay()\\nprint(\"outside\",num)', 'name = \"dhruv\"\\ndef display():\\n    age = 23 \\n\\ndisplay()\\nprint(globals())'], 'Out': {}, 'get_ipython': <bound method InteractiveShell.get_ipython of <ipykernel.zmqshell.ZMQInteractiveShell object at 0x000001ADA6DFAF90>>, 'exit': <IPython.core.autocall.ZMQExitAutocall object at 0x000001ADA6E90830>, 'quit': <IPython.core.autocall.ZMQExitAutocall object at 0x000001ADA6E90830>, 'open': <function open at 0x000001ADA4BB0A40>, '_': '', '__': '', '___': '', '__vsc_ipynb_file__': 'd:\\\\Programming\\\\advanced python\\\\Function.ipynb', '_i': 'num = 10 \\ndef display():\\n    num = 20\\n    print(\"inside\",num)\\n    \\ndisplay()\\nprint(\"outside\",num)', '_ii': '#global identifier\\ncountry = \"india\"\\ndef display():\\n    name = \"jay\"\\n    print(name)\\n    print(country)\\ndisplay()', '_iii': '#local identifier\\ndef display(name):\\n    age = 20  #local variable\\n    x = 18\\n    print(f\"{name} is {age} years old\")\\n    variables = locals()\\n    print(len(variables))\\n    print(variables[\\'x\\'])\\n    print (age)\\n    \\ndisplay(\"dhruv\")\\n#print(age) #this will give error because age is local variable', '_i1': '#built-in function\\nstr1 = \"shantanu\"\\nprint(len(str1))', 'str1': 'shantanu', '_i2': '#user-defined function\\n#it have two types: 1)parameterized 2)non-parameterized\\n \\n#parameterized: which have parameters\\ndef display(message):\\n    print(\"Welcome!\")\\n    print(message)\\n    \\ndisplay(\"hello world\")\\nprint(\"-\"*50)\\ndisplay(\"hello shantanu\")', 'display': <function display at 0x000001ADA6FEB880>, '_i3': '#non-parameterized: which do not have parameters\\ndef display():\\n    print(\"Welcome!\")\\n    print(\"hello world\")\\n\\ndisplay()\\nprint(\"-\"*50)\\ndisplay()', '_i4': '# some codes are not support in jupitor notebook so i made a additional page for functional programming', '_i5': '#parameters VS arguments\\n\\ndef add(a,b): #parameters\\n    print(a+b)\\n    \\nadd(50,60) #arguments\\nadd(1000,2000)  \\nadd(500,600)\\n\\n#parameters:- formal arguments\\n#arguments:- actual arguments', 'add': <function add at 0x000001ADA6FEAFC0>, '_i6': 'def simple_interest(p,t,r):\\n    print(\"principle amount:\",p)\\n    print(\"number of year:\",t)\\n    print(\"rate of interest:\",r)\\n    si = (p*t*r)/100\\n    print(\"simple interest:\",si)\\n    \\nsimple_interest(1000,2,15.8)\\nprint(\"-\"*50)\\nsimple_interest(2000,3,57)\\nprint(\"-\"*50)\\nsimple_interest(5000,4,11.5)\\n\\n    ', 'simple_interest': <function simple_interest at 0x000001ADA6FEB2E0>, '_i7': '#Scope in programming \\n#in programming ,the term \"scope\" refers to the region of code where an identifier can be accessed\\n#scope of a variable is the portion of a program where the variable is recognized', '_i8': '#local identifier\\ndef display(name):\\n    age = 20  #local variable\\n    x = 18\\n    print(f\"{name} is {age} years old\")\\n    variables = locals()\\n    print(len(variables))\\n    print(variables[\\'x\\'])\\n    print (age)\\n    \\ndisplay(\"dhruv\")\\n#print(age) #this will give error because age is local variable', '_i9': '#global identifier\\ncountry = \"india\"\\ndef display():\\n    name = \"jay\"\\n    print(name)\\n    print(country)\\ndisplay()', 'country': 'india', '_i10': 'num = 10 \\ndef display():\\n    num = 20\\n    print(\"inside\",num)\\n    \\ndisplay()\\nprint(\"outside\",num)', 'num': 10, '_i11': 'name = \"dhruv\"\\ndef display():\\n    age = 23 \\n\\ndisplay()\\nprint(globals())', 'name': 'dhruv'}\n"
     ]
    }
   ],
   "source": [
    "name = \"dhruv\"\n",
    "def display():\n",
    "    age = 23 \n",
    "\n",
    "display()\n",
    "print(globals())"
   ]
  },
  {
   "cell_type": "code",
   "execution_count": 12,
   "metadata": {},
   "outputs": [
    {
     "name": "stdout",
     "output_type": "stream",
     "text": [
      "simple interest is: 16650.0\n",
      "total payable amount: 26650.0\n"
     ]
    }
   ],
   "source": [
    "#return statement: return statement is used to exit from a function and it returns a value to the function caller\n",
    "\n",
    "def simple_interest(p,n,r):\n",
    "    si = (p*n*r)/100\n",
    "    print(\"simple interest is:\",si)\n",
    "    return si\n",
    "    #print(\"hello world\") it will not print because return statement exit the function and after this after return statement no other statement will print\n",
    "    \n",
    "P = 10000\n",
    "N = 18\n",
    "R = 9.25 \n",
    "si = simple_interest(P,N,R)\n",
    "total = P + si \n",
    "print(\"total payable amount:\",total)"
   ]
  },
  {
   "cell_type": "code",
   "execution_count": 13,
   "metadata": {},
   "outputs": [
    {
     "name": "stdout",
     "output_type": "stream",
     "text": [
      "['raghav', 10, 10.3, 'dhruv']\n"
     ]
    }
   ],
   "source": [
    "#you can return any type of valid python object\n",
    "\n",
    "def display():\n",
    "    return ['raghav',10,10.3,\"dhruv\"]\n",
    "\n",
    "print(display())"
   ]
  },
  {
   "cell_type": "code",
   "execution_count": 14,
   "metadata": {},
   "outputs": [
    {
     "name": "stdout",
     "output_type": "stream",
     "text": [
      "addition is: 30\n",
      "subtraction is: -10\n"
     ]
    }
   ],
   "source": [
    "def calci(a,b):\n",
    "    add = a + b\n",
    "    sub = a - b\n",
    "    return add,sub # Tuple(so, it makes in the form of tuple)\n",
    "\n",
    "n1,n2 = calci(10,20) #(30, -10)\n",
    "print(\"addition is:\",n1)\n",
    "print(\"subtraction is:\",n2)"
   ]
  },
  {
   "cell_type": "code",
   "execution_count": 15,
   "metadata": {},
   "outputs": [
    {
     "name": "stdout",
     "output_type": "stream",
     "text": [
      "addition is: 30\n",
      "substraction is: 10.3\n"
     ]
    }
   ],
   "source": [
    "# you can only use return keyword to stop execution of function\n",
    "\n",
    "def calci(a,b):\n",
    "    if a < 0:\n",
    "        return\n",
    "    add = a + b\n",
    "    sub = a - b\n",
    "    return add,10.3\n",
    "    print(\"dhruv\")\n",
    "    \n",
    "n1,n2 = calci(10,20) # if we take (-10,20) we get this error: cannot unpack non-iterable NoneType object\n",
    "print(\"addition is:\",n1)\n",
    "print(\"substraction is:\",n2)    "
   ]
  },
  {
   "cell_type": "code",
   "execution_count": 16,
   "metadata": {},
   "outputs": [
    {
     "name": "stdout",
     "output_type": "stream",
     "text": [
      "hello world\n",
      "None\n"
     ]
    }
   ],
   "source": [
    "#default return type is none so we can optionally use this return statement\n",
    "\n",
    "def display():\n",
    "    print(\"hello world\")\n",
    "    \n",
    "print(display()) #none for this display()\n",
    "\n",
    "#return we only use under the function only\n",
    "# it is a keyword \n",
    "# we dont use it for variables and identifiers"
   ]
  },
  {
   "cell_type": "code",
   "execution_count": 17,
   "metadata": {},
   "outputs": [
    {
     "name": "stdout",
     "output_type": "stream",
     "text": [
      "<function display at 0x000001ADA6FEBE20>\n"
     ]
    }
   ],
   "source": [
    "#function is an objecct \n",
    "def display():\n",
    "    print(\"hello world\")\n",
    "\n",
    "#print(type(10)) output:<class 'int'>\n",
    "#print(type(display)) output:<class 'function'>\n",
    "print(display) #display is python object"
   ]
  },
  {
   "cell_type": "code",
   "execution_count": 18,
   "metadata": {},
   "outputs": [
    {
     "name": "stdout",
     "output_type": "stream",
     "text": [
      "hello worlds\n",
      "hello worlds\n"
     ]
    }
   ],
   "source": [
    "#creating aliases for functions\n",
    "\n",
    "def display():\n",
    "    print(\"hello worlds\")\n",
    "    \n",
    "var = display\n",
    "var1 = display\n",
    "var1()\n",
    "display()"
   ]
  },
  {
   "cell_type": "markdown",
   "metadata": {},
   "source": [
    "NESTED FUNCTION\n",
    "\n",
    "it is also use in closer and decorators without nested function we can't use them "
   ]
  },
  {
   "cell_type": "code",
   "execution_count": 24,
   "metadata": {},
   "outputs": [
    {
     "name": "stdout",
     "output_type": "stream",
     "text": [
      "hello\n",
      "here\n",
      "dhruv!\n"
     ]
    }
   ],
   "source": [
    "def outer():\n",
    "    print(\"hello\")\n",
    "    def inner():\n",
    "        def inner1():\n",
    "            print(\"here\")\n",
    "        inner1()\n",
    "        print(\"dhruv!\")\n",
    "    inner() \n",
    "outer()\n"
   ]
  },
  {
   "cell_type": "markdown",
   "metadata": {},
   "source": [
    "ARGUMENTS and types of arguments\n"
   ]
  },
  {
   "cell_type": "code",
   "execution_count": 1,
   "metadata": {},
   "outputs": [
    {
     "name": "stdout",
     "output_type": "stream",
     "text": [
      "dhruv is 23 years old\n",
      "raghav is 24 years old\n"
     ]
    }
   ],
   "source": [
    "#positional arguments\n",
    "#no. of parameters = no. of arguments\n",
    "def display(name,age):\n",
    "    print(f\"{name} is {age} years old\")\n",
    "\n",
    "display(\"dhruv\",23)\n",
    "display(\"raghav\",24)"
   ]
  },
  {
   "cell_type": "code",
   "execution_count": 6,
   "metadata": {},
   "outputs": [
    {
     "name": "stdout",
     "output_type": "stream",
     "text": [
      "dhruv is 23 years old\n",
      "raghav is 24 years old\n"
     ]
    }
   ],
   "source": [
    "#keyword arguments\n",
    "#no need to maintain the order of arguments\n",
    "#no. of parameters = no. of arguments\n",
    "\n",
    "def display(name,age):\n",
    "    print(f\"{name} is {age} years old\")\n",
    "    \n",
    "display(name=\"dhruv\",age=23)\n",
    "display(age=24,name=\"raghav\")\n"
   ]
  },
  {
   "cell_type": "code",
   "execution_count": 7,
   "metadata": {},
   "outputs": [
    {
     "name": "stdout",
     "output_type": "stream",
     "text": [
      "dhruv is 23 years old\n",
      "raghav is 24 years old\n"
     ]
    }
   ],
   "source": [
    "#mixing positional and keyword arguments\n",
    "\n",
    "def display(name,age):\n",
    "    print(f\"{name} is {age} years old\")\n",
    "    \n",
    "display(\"dhruv\",23)\n",
    "display(age=24,name=\"raghav\")"
   ]
  },
  {
   "cell_type": "code",
   "execution_count": 10,
   "metadata": {},
   "outputs": [
    {
     "name": "stdout",
     "output_type": "stream",
     "text": [
      "total cost is: 2.0 USD\n"
     ]
    }
   ],
   "source": [
    "#default arguments\n",
    "def total_cost(items,currency):\n",
    "    total = sum(items.values())\n",
    "    print(\"total cost is:\",total,currency)\n",
    "    \n",
    "cart={\"apple\":1.00,\"banana\":0.25,\"grapes\":0.75}\n",
    "total_cost(cart,'USD')"
   ]
  },
  {
   "cell_type": "code",
   "execution_count": 17,
   "metadata": {},
   "outputs": [
    {
     "name": "stdout",
     "output_type": "stream",
     "text": [
      "total cost is: 2.0 USD\n"
     ]
    }
   ],
   "source": [
    "def total_cost(items,currency):\n",
    "    total = sum(items.values())\n",
    "    print(\"total cost is:\",total,currency)\n",
    "    \n",
    "cart={\"apple\":1.00,\"banana\":0.25,\"grapes\":0.75}\n",
    "total_cost(cart,'USD')"
   ]
  },
  {
   "cell_type": "code",
   "execution_count": 26,
   "metadata": {},
   "outputs": [
    {
     "name": "stdout",
     "output_type": "stream",
     "text": [
      "dhruv is 23 years old\n",
      "raghav is 18 years old\n",
      "19 is 18 years old\n",
      "dhruv is 18 years old\n",
      "('dhruv', 18)\n"
     ]
    }
   ],
   "source": [
    "#default arguments on mutable datatypes\n",
    "\n",
    "def display(name=\"dhruv\",age=18):\n",
    "    print(f\"{name} is {age} years old\")\n",
    "    \n",
    "display(\"dhruv\",23)\n",
    "display(\"raghav\")\n",
    "display(19)\n",
    "display()\n",
    "print(display.__defaults__)"
   ]
  },
  {
   "cell_type": "code",
   "execution_count": 28,
   "metadata": {},
   "outputs": [
    {
     "name": "stdout",
     "output_type": "stream",
     "text": [
      "Update data is : ['dhruv']\n",
      "Update data is : ['dhruv', 'raghav']\n",
      "Update data is : ['dhruv', 'raghav', 'jay']\n",
      "Update data is : ['dhruv', 'raghav', 'jay', 'shantanu']\n"
     ]
    }
   ],
   "source": [
    "#default arguments on mutable datatypes\n",
    "\n",
    "def add_item(name,employee_data=[]):\n",
    "    employee_data.append(name)\n",
    "    print(\"Update data is :\",employee_data)\n",
    "    \n",
    "add_item(\"dhruv\")\n",
    "add_item(\"raghav\")\n",
    "add_item(\"jay\")\n",
    "add_item(\"shantanu\")\n"
   ]
  },
  {
   "cell_type": "code",
   "execution_count": 1,
   "metadata": {},
   "outputs": [
    {
     "name": "stdout",
     "output_type": "stream",
     "text": [
      "Update data is : ['dhruv']\n",
      "Update data is : ['raghav']\n",
      "Update data is : ['jay']\n",
      "Update data is : ['shantanu']\n"
     ]
    }
   ],
   "source": [
    "#how to avoid this problem of adding multiple names in the list\n",
    "def add_item(name,employee_data=None):\n",
    "    if employee_data is None:\n",
    "        employee_data = []\n",
    "    employee_data.append(name)\n",
    "    print(\"Update data is :\",employee_data)\n",
    "    \n",
    "add_item(\"dhruv\")\n",
    "add_item(\"raghav\")\n",
    "add_item(\"jay\")\n",
    "add_item(\"shantanu\")"
   ]
  },
  {
   "cell_type": "code",
   "execution_count": 3,
   "metadata": {},
   "outputs": [
    {
     "name": "stdout",
     "output_type": "stream",
     "text": [
      "Update data is : Shantanu xyz\n",
      "Update data is : Shantanu xyz\n",
      "Update data is : Shantanu xyz\n",
      "Update data is : Shantanu xyz\n"
     ]
    }
   ],
   "source": [
    "def add_item(name,employee_data=\"Shantanu\"):\n",
    "    employee_data = employee_data +\" xyz\"\n",
    "\n",
    "    print(\"Update data is :\",employee_data)\n",
    "    \n",
    "add_item(\"dhruv\")\n",
    "add_item(\"raghav\")\n",
    "add_item(\"jay\")\n",
    "add_item(\"shantanu\")"
   ]
  },
  {
   "cell_type": "markdown",
   "metadata": {},
   "source": [
    "VARIABLE LENGTH ARGUMENTS \n",
    "\n",
    "variable length positional arguments\n",
    "variable length keyword arguments\n"
   ]
  },
  {
   "cell_type": "code",
   "execution_count": 3,
   "metadata": {},
   "outputs": [
    {
     "name": "stdout",
     "output_type": "stream",
     "text": [
      "60\n",
      "30\n",
      "100\n"
     ]
    }
   ],
   "source": [
    "#def addition (num1,num2):\n",
    " #   return num1 + num2\n",
    "\n",
    "#print(addition(10,20,30))\n",
    "\n",
    "def addition(*num):\n",
    "    sum1 = 0\n",
    "    for i in num:\n",
    "        sum1 = sum1 + i\n",
    "    return sum1\n",
    "\n",
    "print(addition(10,20,30))\n",
    "print(addition(10,20))\n",
    "print(addition(10,20,30,40))"
   ]
  },
  {
   "cell_type": "code",
   "execution_count": 4,
   "metadata": {},
   "outputs": [
    {
     "name": "stdout",
     "output_type": "stream",
     "text": [
      "()\n",
      "{'n1': 10, 'n2': 20, 'n3': 30}\n",
      "None\n",
      "()\n",
      "{'n1': 10, 'n2': 20}\n",
      "None\n",
      "()\n",
      "{'n1': 10, 'n2': 20, 'n3': 30, 'n4': 40}\n",
      "None\n"
     ]
    }
   ],
   "source": [
    "#variable length keyword aurgument\n",
    "def addition(*num,**nums):\n",
    "    print(num)\n",
    "    print(nums)\n",
    "\n",
    "print(addition(n1=10,n2=20,n3=30))\n",
    "print(addition(n1=10,n2=20))\n",
    "print(addition(n1=10,n2=20,n3=30,n4=40))"
   ]
  },
  {
   "cell_type": "code",
   "execution_count": 2,
   "metadata": {},
   "outputs": [
    {
     "name": "stdout",
     "output_type": "stream",
     "text": [
      "(100, 200, 300)\n",
      "{'n1': 10, 'n2': 20, 'n3': 30}\n",
      "None\n"
     ]
    }
   ],
   "source": [
    "#variable length keywords arguments\n",
    "def addition(*num,**nums):\n",
    "    print(num)\n",
    "    print(nums)\n",
    "\n",
    "print(addition(100,200,300,n1=10,n2=20,n3=30))\n"
   ]
  },
  {
   "cell_type": "code",
   "execution_count": 8,
   "metadata": {},
   "outputs": [
    {
     "name": "stdout",
     "output_type": "stream",
     "text": [
      "dhruv is 20 years old and lives in satna and get marks in hindi,english,maths is (30, 40, 50)\n"
     ]
    }
   ],
   "source": [
    "#mixing different type of arguments\n",
    "\n",
    "#positional arguments ----> variable length positional arguments ----> keyword arguments ----> variable length keyword arguments ----> default arguments \n",
    "#example:\n",
    "\n",
    "def info(city,*marks,age,name='N/A'):\n",
    "    print(f\"{name} is {age} years old and lives in {city} and get marks in hindi,english,maths is {marks}\")\n",
    "\n",
    "info('satna',30,40,50,name='dhruv',age=20)\n"
   ]
  },
  {
   "cell_type": "markdown",
   "metadata": {},
   "source": [
    "LAMBDA FUNCTION\n",
    "\n",
    "normal functions: created using def keywords\n",
    "\n",
    "lambda functions: created using lambda keywords\n",
    "\n",
    "syntax: lambda arg_list : expression/python statement"
   ]
  },
  {
   "cell_type": "code",
   "execution_count": 10,
   "metadata": {},
   "outputs": [
    {
     "name": "stdout",
     "output_type": "stream",
     "text": [
      "30\n"
     ]
    }
   ],
   "source": [
    "#normal function\n",
    "def add(x,y):\n",
    "    return x+y\n",
    "print(add(10,20))"
   ]
  },
  {
   "cell_type": "code",
   "execution_count": 12,
   "metadata": {},
   "outputs": [
    {
     "name": "stdout",
     "output_type": "stream",
     "text": [
      "<class 'function'>\n",
      "30\n"
     ]
    }
   ],
   "source": [
    "#lambda function\n",
    "add = lambda x,y:x+y\n",
    "print(type(add))\n",
    "print(add(10,20))"
   ]
  },
  {
   "cell_type": "code",
   "execution_count": 14,
   "metadata": {},
   "outputs": [
    {
     "name": "stdout",
     "output_type": "stream",
     "text": [
      "20\n"
     ]
    }
   ],
   "source": [
    "#using default and keyword argument in lambda function\n",
    "\n",
    "add = lambda x,y=10:x+y\n",
    "print(add(x=10))"
   ]
  },
  {
   "cell_type": "code",
   "execution_count": 20,
   "metadata": {},
   "outputs": [
    {
     "name": "stdout",
     "output_type": "stream",
     "text": [
      "hello world\n",
      "None\n"
     ]
    }
   ],
   "source": [
    "argument = lambda:print(\"hello world\")\n",
    "print(argument())"
   ]
  },
  {
   "cell_type": "code",
   "execution_count": 22,
   "metadata": {},
   "outputs": [
    {
     "name": "stdout",
     "output_type": "stream",
     "text": [
      "addition is :  30\n",
      "subtraction is :  20\n"
     ]
    }
   ],
   "source": [
    "add = lambda x,y:(x+y,x-y)\n",
    "addition,subtraction = (30,20)\n",
    "print(\"addition is : \",addition)\n",
    "print(\"subtraction is : \",subtraction)"
   ]
  },
  {
   "cell_type": "code",
   "execution_count": 23,
   "metadata": {},
   "outputs": [
    {
     "name": "stdout",
     "output_type": "stream",
     "text": [
      "11\n"
     ]
    }
   ],
   "source": [
    "lambda n:n+1\n",
    "print((lambda n:n+1)(10))"
   ]
  },
  {
   "cell_type": "code",
   "execution_count": 24,
   "metadata": {},
   "outputs": [
    {
     "name": "stdout",
     "output_type": "stream",
     "text": [
      "100\n"
     ]
    }
   ],
   "source": [
    "lambda n:n**2\n",
    "print((lambda n:n**2)(10))"
   ]
  },
  {
   "cell_type": "code",
   "execution_count": 25,
   "metadata": {},
   "outputs": [
    {
     "name": "stdout",
     "output_type": "stream",
     "text": [
      "HELLO WORLD\n"
     ]
    }
   ],
   "source": [
    "lambda str1:str1.upper()\n",
    "print((lambda str1:str1.upper())(\"hello world\"))"
   ]
  },
  {
   "cell_type": "code",
   "execution_count": 28,
   "metadata": {},
   "outputs": [
    {
     "name": "stdout",
     "output_type": "stream",
     "text": [
      "41.0\n"
     ]
    }
   ],
   "source": [
    "lambda c:c * 9/5 + 32\n",
    "print((lambda c:c*9/5 + 32)(5))"
   ]
  },
  {
   "cell_type": "markdown",
   "metadata": {},
   "source": [
    "Using lambda with sorted() function and split()\n"
   ]
  },
  {
   "cell_type": "code",
   "execution_count": 3,
   "metadata": {},
   "outputs": [
    {
     "name": "stdout",
     "output_type": "stream",
     "text": [
      "[4, 10, 30, 64, 224, 565]\n"
     ]
    }
   ],
   "source": [
    "print(sorted([10,30,4,64,224,565]))"
   ]
  },
  {
   "cell_type": "code",
   "execution_count": 6,
   "metadata": {},
   "outputs": [
    {
     "name": "stdout",
     "output_type": "stream",
     "text": [
      "['aryan', 'dhruv', 'rahul', 'sumit', 'tanya']\n"
     ]
    }
   ],
   "source": [
    "print(sorted(['dhruv','rahul','aryan','sumit','tanya']))"
   ]
  },
  {
   "cell_type": "code",
   "execution_count": 8,
   "metadata": {},
   "outputs": [
    {
     "name": "stdout",
     "output_type": "stream",
     "text": [
      "['sid', 'arav', 'dhruv', 'shubham', 'shivanshu']\n"
     ]
    }
   ],
   "source": [
    "print(sorted(['dhruv','shubham','arav','shivanshu','sid'],key=len))"
   ]
  },
  {
   "cell_type": "code",
   "execution_count": 14,
   "metadata": {},
   "outputs": [
    {
     "name": "stdout",
     "output_type": "stream",
     "text": [
      "['sharma', 'Rohit']\n",
      "Rohit\n",
      "['sharma ', 'ohit']\n"
     ]
    }
   ],
   "source": [
    "print('sharma Rohit'.split())\n",
    "print('sharma Rohit'.split()[1])\n",
    "print('sharma Rohit'.split('R'))"
   ]
  },
  {
   "cell_type": "code",
   "execution_count": 18,
   "metadata": {},
   "outputs": [
    {
     "name": "stdout",
     "output_type": "stream",
     "text": [
      "['singh Dhruv', 'modi Narendra', 'sharma Rohit', 'bhargawa Shahil', 'nagar Shivani', 'raina Suresh']\n"
     ]
    }
   ],
   "source": [
    "def func(name):\n",
    "    names = name.split()\n",
    "    first_name = names[1]\n",
    "    return first_name\n",
    "\n",
    "data = ['sharma Rohit', 'singh Dhruv','bhargawa Shahil','modi Narendra','raina Suresh','nagar Shivani']\n",
    "print(sorted(data,key=func))"
   ]
  },
  {
   "cell_type": "code",
   "execution_count": 19,
   "metadata": {},
   "outputs": [
    {
     "name": "stdout",
     "output_type": "stream",
     "text": [
      "['singh Dhruv', 'modi Narendra', 'sharma Rohit', 'bhargawa Shahil', 'nagar Shivani', 'raina Suresh']\n"
     ]
    }
   ],
   "source": [
    "def func(name):\n",
    "    return name.split()[1]\n",
    "data = ['sharma Rohit', 'singh Dhruv','bhargawa Shahil','modi Narendra','raina Suresh','nagar Shivani']\n",
    "print(sorted(data,key=func))"
   ]
  },
  {
   "cell_type": "code",
   "execution_count": 20,
   "metadata": {},
   "outputs": [
    {
     "name": "stdout",
     "output_type": "stream",
     "text": [
      "['singh Dhruv', 'modi Narendra', 'sharma Rohit', 'bhargawa Shahil', 'nagar Shivani', 'raina Suresh']\n"
     ]
    }
   ],
   "source": [
    "\n",
    "data = ['sharma Rohit', 'singh Dhruv','bhargawa Shahil','modi Narendra','raina Suresh','nagar Shivani']\n",
    "print(sorted(data,key=lambda name:name.split()[1]))"
   ]
  },
  {
   "cell_type": "code",
   "execution_count": 2,
   "metadata": {},
   "outputs": [
    {
     "name": "stdout",
     "output_type": "stream",
     "text": [
      "20\n",
      "20\n"
     ]
    }
   ],
   "source": [
    "#short hand if-else\n",
    "\n",
    "if num1>=num2:\n",
    "    print(10)\n",
    "else:\n",
    "    print(20)\n",
    "    \n",
    "print(10 if num1>=num2 else 20)"
   ]
  },
  {
   "cell_type": "code",
   "execution_count": 4,
   "metadata": {},
   "outputs": [
    {
     "name": "stdout",
     "output_type": "stream",
     "text": [
      "90\n"
     ]
    }
   ],
   "source": [
    "max1 = lambda n1,n2: n1 if n1>=n2 else n2\n",
    "print(max1(37,90))"
   ]
  },
  {
   "cell_type": "code",
   "execution_count": 8,
   "metadata": {},
   "outputs": [
    {
     "name": "stdout",
     "output_type": "stream",
     "text": [
      "[1000, 12167, 74088, 157464, 389017, 13824, 148877, 373248, 2197, 262144]\n"
     ]
    }
   ],
   "source": [
    "nums = [10,23,42,54,73,24,53,72,13,64]\n",
    "squares = lambda data:[i**3 for i in nums]\n",
    "print(squares(nums))"
   ]
  },
  {
   "cell_type": "code",
   "execution_count": 9,
   "metadata": {},
   "outputs": [
    {
     "name": "stdout",
     "output_type": "stream",
     "text": [
      "30\n"
     ]
    }
   ],
   "source": [
    "print((lambda a,b:a+b)(10,20))"
   ]
  },
  {
   "cell_type": "code",
   "execution_count": null,
   "metadata": {},
   "outputs": [],
   "source": [
    "result = (lambda num:num+1(input('enter the number: ',13)))\n",
    "print(result)"
   ]
  },
  {
   "cell_type": "markdown",
   "metadata": {},
   "source": [
    "First Class Object In Programming\n",
    "\n",
    "this is a programming concept/term which supports some properties and Function is a First Class Object in Python\n",
    "\n",
    "properties:-\n",
    "\n",
    "they are instance of some class\n",
    "\n",
    "can be stored in data structure \n",
    "\n",
    "can be assigned to variables \n",
    "\n",
    "can perform operations on these objects \n",
    "\n",
    "can be passed as arguments to functions\n",
    "\n",
    "can be returned as values from functions"
   ]
  },
  {
   "cell_type": "code",
   "execution_count": 1,
   "metadata": {},
   "outputs": [
    {
     "name": "stdout",
     "output_type": "stream",
     "text": [
      "<class 'function'>\n"
     ]
    }
   ],
   "source": [
    "def display(msg):\n",
    "    print(msg)\n",
    "print(type(display))"
   ]
  },
  {
   "cell_type": "code",
   "execution_count": 2,
   "metadata": {},
   "outputs": [
    {
     "name": "stdout",
     "output_type": "stream",
     "text": [
      "<function display at 0x00000249765A9620>\n"
     ]
    }
   ],
   "source": [
    "def display(msg):\n",
    "    print(msg)\n",
    "\n",
    "dhruv = display\n",
    "print(display)"
   ]
  },
  {
   "cell_type": "code",
   "execution_count": 3,
   "metadata": {},
   "outputs": [
    {
     "name": "stdout",
     "output_type": "stream",
     "text": [
      "[<function display at 0x00000249765FCD60>]\n"
     ]
    }
   ],
   "source": [
    "def display(msg):\n",
    "    print(msg)\n",
    "\n",
    "data = [display]\n",
    "print(data)"
   ]
  },
  {
   "cell_type": "code",
   "execution_count": 4,
   "metadata": {},
   "outputs": [],
   "source": [
    "def display(msg):\n",
    "    print(msg)\n",
    "    \n",
    "def demo(func):\n",
    "    pass\n",
    "\n",
    "demo(display)"
   ]
  },
  {
   "cell_type": "code",
   "execution_count": 5,
   "metadata": {},
   "outputs": [],
   "source": [
    "def display(msg):\n",
    "    def xyz():\n",
    "        pass\n",
    "    return xyz\n",
    "    \n",
    "def demo(func):\n",
    "    pass\n",
    "\n",
    "demo(display)"
   ]
  },
  {
   "cell_type": "markdown",
   "metadata": {},
   "source": [
    "function as an argument (in function addition file)"
   ]
  },
  {
   "cell_type": "code",
   "execution_count": 8,
   "metadata": {},
   "outputs": [
    {
     "name": "stdout",
     "output_type": "stream",
     "text": [
      "hello dhruv singh\n"
     ]
    }
   ],
   "source": [
    "def get_name():\n",
    "    nm = input(\"enter your name: \")\n",
    "    last_nm = input(\"enter your last name: \")\n",
    "    return nm + \" \" + last_nm\n",
    "\n",
    "def display(func):\n",
    "    print(\"hello\",func())\n",
    "    \n",
    "display(get_name)"
   ]
  },
  {
   "cell_type": "code",
   "execution_count": 38,
   "metadata": {},
   "outputs": [
    {
     "name": "stdout",
     "output_type": "stream",
     "text": [
      "hello raj dahiya\n"
     ]
    }
   ],
   "source": [
    "#function as an argument\n",
    "\n",
    "def get_name():\n",
    "    nm = input(\"enter your name: \")\n",
    "    last_nm = input(\"enter your last name: \")\n",
    "    return nm + \" \" + last_nm\n",
    "\n",
    "def display(func):\n",
    "    print(\"hello\",func())\n",
    "    \n",
    "display(get_name)"
   ]
  },
  {
   "cell_type": "code",
   "execution_count": 2,
   "metadata": {},
   "outputs": [
    {
     "name": "stdout",
     "output_type": "stream",
     "text": [
      "sum is : 30\n",
      "sub is : -10\n",
      "multiply is : 200\n",
      "divide is : 0.5\n"
     ]
    }
   ],
   "source": [
    "def calculator(func):\n",
    "    return func(10,20)\n",
    "    def sum(a,b):\n",
    "        return a+b\n",
    "    def sub(a,b):\n",
    "        return a-b\n",
    "    def multiply(a,b): \n",
    "        return a*b\n",
    "    def divide(a,b):\n",
    "        return  a/b\n",
    "\n",
    "    \n",
    "print(\"sum is :\",calculator(sum))\n",
    "print(\"sub is :\",calculator(sub))\n",
    "print(\"multiply is :\",calculator(multiply))\n",
    "print(\"divide is :\",calculator(divide))"
   ]
  },
  {
   "cell_type": "code",
   "execution_count": 5,
   "metadata": {},
   "outputs": [
    {
     "name": "stdout",
     "output_type": "stream",
     "text": [
      "Sum: 300\n",
      "Subtraction: 150\n",
      "Multiplication: 200\n",
      "Division: 50.0\n"
     ]
    }
   ],
   "source": [
    "def calculator():\n",
    "    def sum(a, b):\n",
    "        print(\"Sum:\", a + b)\n",
    "    \n",
    "    def sub(a, b):\n",
    "        print(\"Subtraction:\", a - b)\n",
    "    \n",
    "    def multiply(a, b):\n",
    "        print(\"Multiplication:\", a * b)\n",
    "    \n",
    "    def divide(a, b):\n",
    "        if b != 0:\n",
    "            print(\"Division:\", a / b)\n",
    "        else:\n",
    "            print(\"Cannot divide by zero\")\n",
    "    \n",
    "    return {\"sum\": sum, \"sub\": sub, \"multiply\": multiply, \"divide\": divide}\n",
    "\n",
    "# Usage\n",
    "calc = calculator()\n",
    "calc[\"sum\"](100, 200)\n",
    "calc[\"sub\"](200, 50)\n",
    "calc[\"multiply\"](10, 20)\n",
    "calc[\"divide\"](100, 2)"
   ]
  },
  {
   "cell_type": "code",
   "execution_count": 38,
   "metadata": {},
   "outputs": [
    {
     "name": "stdout",
     "output_type": "stream",
     "text": [
      "hello\n",
      "world\n"
     ]
    }
   ],
   "source": [
    "def display():\n",
    "    print(\"hello\")\n",
    "    def inner():\n",
    "        print(\"world\")\n",
    "    return inner   \n",
    "display()\n",
    "inner()"
   ]
  },
  {
   "cell_type": "markdown",
   "metadata": {},
   "source": [
    "HIGHER ORDER FUNCTION"
   ]
  },
  {
   "cell_type": "code",
   "execution_count": 7,
   "metadata": {},
   "outputs": [
    {
     "name": "stdout",
     "output_type": "stream",
     "text": [
      "sum is: 30\n"
     ]
    }
   ],
   "source": [
    "def add(n1,n2):\n",
    "    return n1+n2\n",
    "\n",
    "def display(func):\n",
    "    print(\"sum is:\",func(10,20))\n",
    "    \n",
    "display(add)"
   ]
  },
  {
   "cell_type": "markdown",
   "metadata": {},
   "source": [
    "FILTER() FUNCTION\n"
   ]
  },
  {
   "cell_type": "code",
   "execution_count": 7,
   "metadata": {},
   "outputs": [
    {
     "name": "stdout",
     "output_type": "stream",
     "text": [
      "[22, 46, 68, 90, 30]\n"
     ]
    }
   ],
   "source": [
    "data = [22,23,45,46,68,90,51,30]\n",
    "def even(num):\n",
    "    if num%2==0:\n",
    "        return True    # we also use in behalf of true (non zero values)\n",
    "    else:\n",
    "        return False   # we also use in behalf of false (zero value and None)\n",
    "filtered_obj = filter(even,data)\n",
    "print(list(filtered_obj))"
   ]
  },
  {
   "cell_type": "code",
   "execution_count": 8,
   "metadata": {},
   "outputs": [
    {
     "name": "stdout",
     "output_type": "stream",
     "text": [
      "[22, 46, 68, 90, 30]\n"
     ]
    }
   ],
   "source": [
    "data = [22,23,45,46,68,90,51,30]\n",
    "def even(num):\n",
    "    return num%2==0\n",
    "filtered_obj = filter(even,data)\n",
    "print(list(filtered_obj))"
   ]
  },
  {
   "cell_type": "code",
   "execution_count": 9,
   "metadata": {},
   "outputs": [
    {
     "name": "stdout",
     "output_type": "stream",
     "text": [
      "22\n",
      "46\n",
      "68\n",
      "90\n",
      "30\n",
      "[]\n"
     ]
    }
   ],
   "source": [
    "data = [22,23,45,46,68,90,51,30]\n",
    "def even(num):\n",
    "    return num%2==0\n",
    "filtered_obj = filter(even,data)\n",
    "for element in filtered_obj:\n",
    "    print(element)          # it print filtered_obj only single time because it not support multiple times \n",
    "print(list(filtered_obj))   # it will not print "
   ]
  },
  {
   "cell_type": "code",
   "execution_count": 10,
   "metadata": {},
   "outputs": [
    {
     "name": "stdout",
     "output_type": "stream",
     "text": [
      "[22, 46, 68, 90, 30]\n"
     ]
    }
   ],
   "source": [
    "# using lambda function in filter()\n",
    "data = [22,23,45,46,68,90,51,30]\n",
    "filtered_obj = filter(lambda num:num%2==0,data)\n",
    "print(list(filtered_obj))"
   ]
  },
  {
   "cell_type": "code",
   "execution_count": 11,
   "metadata": {},
   "outputs": [
    {
     "name": "stdout",
     "output_type": "stream",
     "text": [
      "[22, 46, 68, 90, 30]\n"
     ]
    }
   ],
   "source": [
    "data = [22,23,45,46,68,90,51,30]\n",
    "print(list(filter(lambda num:num%2==0,data)))"
   ]
  },
  {
   "cell_type": "code",
   "execution_count": 16,
   "metadata": {},
   "outputs": [
    {
     "name": "stdout",
     "output_type": "stream",
     "text": [
      "[22, 46, 68, 90, 30]\n"
     ]
    }
   ],
   "source": [
    "print(list(filter(lambda num:num%2==0,[22,23,45,46,68,90,51,30])))"
   ]
  },
  {
   "cell_type": "code",
   "execution_count": 20,
   "metadata": {},
   "outputs": [
    {
     "name": "stdout",
     "output_type": "stream",
     "text": [
      "[2, 4, 6, 8, 10]\n"
     ]
    }
   ],
   "source": [
    "numbers = list(map(int, input(\"Enter numbers separated by spaces: \").split()))\n",
    "even_numbers = list(filter(lambda num: num % 2 == 0, numbers))\n",
    "print(even_numbers)\n"
   ]
  },
  {
   "cell_type": "code",
   "execution_count": 2,
   "metadata": {},
   "outputs": [
    {
     "name": "stdout",
     "output_type": "stream",
     "text": [
      "[68, 90]\n"
     ]
    }
   ],
   "source": [
    "data = [22,23,45,46,68,90,51,30]\n",
    "\"\"\"def greater (num):\n",
    "    if num>50:\n",
    "        return True\n",
    "    else:\n",
    "        return False\"\"\"\n",
    "filtered_obj = filter(lambda num:num>=60,data)\n",
    "print(list(filtered_obj))"
   ]
  },
  {
   "cell_type": "code",
   "execution_count": 4,
   "metadata": {},
   "outputs": [
    {
     "name": "stdout",
     "output_type": "stream",
     "text": [
      "['a', 'a', 'u']\n"
     ]
    }
   ],
   "source": [
    "#example : filter vowels from given string\n",
    "str1 = 'shantanu'\n",
    "vowels_list = ['a','e','i','o','u']\n",
    "def vowels(char):\n",
    "    if char in vowels_list:\n",
    "        return True\n",
    "    else:\n",
    "        return False\n",
    "filtered_obj = filter(vowels,str1)\n",
    "print(list(filtered_obj))"
   ]
  },
  {
   "cell_type": "code",
   "execution_count": 6,
   "metadata": {},
   "outputs": [
    {
     "name": "stdout",
     "output_type": "stream",
     "text": [
      "['a', 'a', 'u']\n"
     ]
    }
   ],
   "source": [
    "str1 = 'shantanu'\n",
    "vowels_list = ['a','e','i','o','u']\n",
    "filtered_obj = filter(lambda ch:ch in vowels_list ,str1)\n",
    "print(list(filtered_obj))"
   ]
  },
  {
   "cell_type": "code",
   "execution_count": 2,
   "metadata": {},
   "outputs": [
    {
     "name": "stdout",
     "output_type": "stream",
     "text": [
      "['dhruv', 'nihal', 'shubham']\n"
     ]
    }
   ],
   "source": [
    "#Example : filter students having marks greater than or equal to 90\n",
    "\n",
    "students = {'dhruv':92,'rajeev':82,'nihal':99,'deepak':89,'shubham':95}\n",
    "def marks(student):\n",
    "    return students[student]>=90\n",
    "filtered_obj = filter(marks,students)\n",
    "print(list(filtered_obj))\n"
   ]
  },
  {
   "cell_type": "markdown",
   "metadata": {},
   "source": [
    "MAP() FUNCTION\n"
   ]
  },
  {
   "cell_type": "code",
   "execution_count": 11,
   "metadata": {},
   "outputs": [
    {
     "name": "stdout",
     "output_type": "stream",
     "text": [
      "raj ---> 3 year\n",
      "yash ---> 4 year\n",
      "dhruv ---> 5 year\n"
     ]
    }
   ],
   "source": [
    "names = ['raj','yash','dhruv']\n",
    "def find_length(name):\n",
    "    return name,len(name)\n",
    "mapped_obj = map(find_length,names)\n",
    "#print(list(mapped_obj))\n",
    "for element in mapped_obj:\n",
    "    print(element[0],'--->',element[1])"
   ]
  },
  {
   "cell_type": "code",
   "execution_count": 14,
   "metadata": {},
   "outputs": [
    {
     "name": "stdout",
     "output_type": "stream",
     "text": [
      "[8, 64, 216, 125, 343, 512, 729]\n"
     ]
    }
   ],
   "source": [
    "nums = [2,4,6,5,7,8,9]\n",
    "def square(n):\n",
    "    return n*n*n\n",
    "\n",
    "mapped_obj = map(square,nums)\n",
    "print(list(mapped_obj))"
   ]
  },
  {
   "cell_type": "code",
   "execution_count": 22,
   "metadata": {},
   "outputs": [
    {
     "name": "stdout",
     "output_type": "stream",
     "text": [
      "[4, 16, 36, 25, 49, 64, 81]\n"
     ]
    }
   ],
   "source": [
    "nums = [2,4,6,5,7,8,9]\n",
    "mapped_obj = map(lambda n:n**2,nums)\n",
    "print(list(mapped_obj))"
   ]
  },
  {
   "cell_type": "code",
   "execution_count": 9,
   "metadata": {},
   "outputs": [
    {
     "name": "stdout",
     "output_type": "stream",
     "text": [
      "[8, 64, 216, None, None, 512, None]\n"
     ]
    }
   ],
   "source": [
    "nums = [2,4,6,5,7,8,9]\n",
    "def square(n):\n",
    "    if n%2==0:  \n",
    "        return n*n*n\n",
    "\n",
    "mapped_obj = map(square,nums)\n",
    "print(list(mapped_obj))"
   ]
  },
  {
   "cell_type": "code",
   "execution_count": 29,
   "metadata": {},
   "outputs": [
    {
     "name": "stdout",
     "output_type": "stream",
     "text": [
      "[32768, 1073741824, 470184984576, 25, 49, 35184372088832, 81]\n"
     ]
    }
   ],
   "source": [
    "nums = [2,4,6,5,7,8,9]\n",
    "def square(n):\n",
    "    if n%2!=0:\n",
    "        return n*n\n",
    "    else:\n",
    "        return n**15\n",
    "\n",
    "mapped_obj = map(square,nums)\n",
    "print(list(mapped_obj))"
   ]
  },
  {
   "cell_type": "code",
   "execution_count": 34,
   "metadata": {},
   "outputs": [
    {
     "name": "stdout",
     "output_type": "stream",
     "text": [
      "[9, 1073741824, 470184984576, 25, 49, 35184372088832, 81]\n"
     ]
    }
   ],
   "source": [
    "nums = [3,4,6,5,7,8,9]\n",
    "mapped_obj = map(lambda n:n*n if n%2!=0 else n**15,nums)\n",
    "print(list(mapped_obj))"
   ]
  },
  {
   "cell_type": "code",
   "execution_count": 7,
   "metadata": {},
   "outputs": [
    {
     "name": "stdout",
     "output_type": "stream",
     "text": [
      "[28, 45, 53, 62, 77, 95]\n"
     ]
    }
   ],
   "source": [
    "#using multiple iterables in map() function\n",
    "\n",
    "num1 = [20,40,50,60,70,90,80]\n",
    "num2 = [8,5,3,2,7,5]\n",
    "def add(a,b):\n",
    "    return a+b\n",
    "mapped = map(add,num1,num2)\n",
    "print(list(mapped))"
   ]
  },
  {
   "cell_type": "code",
   "execution_count": 3,
   "metadata": {},
   "outputs": [
    {
     "name": "stdout",
     "output_type": "stream",
     "text": [
      "[28, 45, 53, 62, 77, 95]\n"
     ]
    }
   ],
   "source": [
    "num1 = [20,40,50,60,70,90,80,67,24]\n",
    "num2 = [ 8, 5, 3, 2, 7, 5]\n",
    "mapped = map(lambda a,b:a+b,num1,num2)\n",
    "print(list(mapped))"
   ]
  },
  {
   "cell_type": "markdown",
   "metadata": {},
   "source": [
    "FILTER () & MAP() FUNCTION CODES "
   ]
  },
  {
   "cell_type": "code",
   "execution_count": 3,
   "metadata": {},
   "outputs": [
    {
     "name": "stdout",
     "output_type": "stream",
     "text": [
      "['dell', 'lenovo', 'acer']\n"
     ]
    }
   ],
   "source": [
    "#filter function\n",
    "laptops = {'dell':50000,'hp':60000,'lenovo':45000,'acer':30000,'asus':70000}\n",
    "budget = float(input(\"enter your budget: \"))\n",
    "def items(element):\n",
    "    if laptops[element] <=budget:\n",
    "        return True\n",
    "    else:\n",
    "        return False\n",
    "filter_obj = filter(items,laptops)\n",
    "print(list(filter_obj))\n"
   ]
  },
  {
   "cell_type": "code",
   "execution_count": 5,
   "metadata": {},
   "outputs": [
    {
     "name": "stdout",
     "output_type": "stream",
     "text": [
      "[101, 52, 73, 104, 125]\n"
     ]
    },
    {
     "data": {
      "text/plain": [
       "'for element in mapped_obj:\\n    print(element)'"
      ]
     },
     "execution_count": 5,
     "metadata": {},
     "output_type": "execute_result"
    }
   ],
   "source": [
    "#map function\n",
    "marks = [90,30,40,60,70,80,50,20]\n",
    "bonus = [1,2,3,4,5]\n",
    "bonus2 = [10,20,30,40,50]\n",
    "def logic(arg1,arg2,arg3):\n",
    "    return arg1+arg2+arg3\n",
    "mapped_obj = map(logic,marks,bonus,bonus2)\n",
    "print(list(mapped_obj))\n",
    "\"\"\"for element in mapped_obj:\n",
    "    print(element)\"\"\""
   ]
  },
  {
   "cell_type": "code",
   "execution_count": 5,
   "metadata": {},
   "outputs": [
    {
     "name": "stdout",
     "output_type": "stream",
     "text": [
      "101\n",
      "52\n",
      "73\n",
      "104\n",
      "125\n"
     ]
    }
   ],
   "source": [
    "marks = [90,30,40,60,70,80,50,20]\n",
    "bonus = [1,2,3,4,5]\n",
    "bonus2 = [10,20,30,40,50]\n",
    "def logic(arg1,arg2,arg3):\n",
    "    return arg1+arg2+arg3\n",
    "mapped_obj = map(logic,marks,bonus,bonus2)\n",
    "for element in mapped_obj:\n",
    "    print(element)"
   ]
  },
  {
   "cell_type": "code",
   "execution_count": 3,
   "metadata": {},
   "outputs": [
    {
     "name": "stdout",
     "output_type": "stream",
     "text": [
      "[120, 720, 5040, 40320, 362880]\n"
     ]
    }
   ],
   "source": [
    "#using factorial in map function\n",
    "factorial_value = [5,6,7,8,9] \n",
    "def fact(n):\n",
    "    if n==0:\n",
    "        return 1 \n",
    "    return n*fact(n-1)\n",
    "mapped_obj = map(fact,factorial_value)\n",
    "print(list(mapped_obj))"
   ]
  },
  {
   "cell_type": "code",
   "execution_count": 2,
   "metadata": {},
   "outputs": [
    {
     "name": "stdout",
     "output_type": "stream",
     "text": [
      "[101, 52, 73, 104, 125]\n"
     ]
    }
   ],
   "source": [
    "marks,bonus,bonus2 = [90,30,40,60,70,80,50,20],[1,2,3,4,5],[10,20,30,40,50]\n",
    "mapped_obj = map(lambda arg1,arg2,arg3:arg1+arg2+arg3,marks,bonus,bonus2)\n",
    "print(list(mapped_obj))"
   ]
  },
  {
   "cell_type": "code",
   "execution_count": 3,
   "metadata": {},
   "outputs": [
    {
     "name": "stdout",
     "output_type": "stream",
     "text": [
      "[101, 52, 73, 104, 125]\n"
     ]
    }
   ],
   "source": [
    "mapped_obj = map(lambda arg1,arg2,arg3:arg1+arg2+arg3,[90,30,40,60,70,80,50,20],[1,2,3,4,5],[10,20,30,40,50])\n",
    "print(list(mapped_obj))"
   ]
  },
  {
   "cell_type": "code",
   "execution_count": 4,
   "metadata": {},
   "outputs": [
    {
     "name": "stdout",
     "output_type": "stream",
     "text": [
      "[101, 52, 73, 104, 125]\n"
     ]
    }
   ],
   "source": [
    "print(list(map(lambda arg1,arg2,arg3:arg1+arg2+arg3,[90,30,40,60,70,80,50,20],[1,2,3,4,5],[10,20,30,40,50])))\n"
   ]
  },
  {
   "cell_type": "code",
   "execution_count": 15,
   "metadata": {},
   "outputs": [
    {
     "name": "stdout",
     "output_type": "stream",
     "text": [
      "101\n",
      "52\n",
      "73\n",
      "104\n",
      "125\n"
     ]
    }
   ],
   "source": [
    "\n",
    "mapped_obj = map(lambda arg1,arg2,arg3:arg1+arg2+arg3,[90,30,40,60,70,80,50,20],[1,2,3,4,5],[10,20,30,40,50])\n",
    "for element in mapped_obj:    \n",
    "    print(element)"
   ]
  },
  {
   "cell_type": "code",
   "execution_count": 25,
   "metadata": {},
   "outputs": [
    {
     "name": "stdout",
     "output_type": "stream",
     "text": [
      "[4, 8, 12, 16, 20, 24, 28, 32, 36, 40]\n"
     ]
    }
   ],
   "source": [
    "table = [1,2,3,4,5,6,7,8,9,10]\n",
    "num = int(input(\"enter the number: \"))\n",
    "def multiply(n):\n",
    "    return n*num\n",
    "mapped_obj = map(multiply,table)\n",
    "print(list(mapped_obj))"
   ]
  },
  {
   "cell_type": "markdown",
   "metadata": {},
   "source": [
    "REDUCE() FUNCTION"
   ]
  },
  {
   "cell_type": "code",
   "execution_count": 10,
   "metadata": {},
   "outputs": [
    {
     "name": "stdout",
     "output_type": "stream",
     "text": [
      "150\n"
     ]
    }
   ],
   "source": [
    "import functools\n",
    "nums = [10,20,30,40,50]\n",
    "def func(a,b):\n",
    "    return a+b\n",
    "\n",
    "print(functools.reduce(func,nums))"
   ]
  },
  {
   "cell_type": "code",
   "execution_count": 11,
   "metadata": {},
   "outputs": [
    {
     "name": "stdout",
     "output_type": "stream",
     "text": [
      "150\n"
     ]
    }
   ],
   "source": [
    "import functools\n",
    "nums = [10,20,30,40,50]\n",
    "\n",
    "print(functools.reduce(lambda a,b:a+b,nums))"
   ]
  },
  {
   "cell_type": "code",
   "execution_count": 16,
   "metadata": {},
   "outputs": [
    {
     "name": "stdout",
     "output_type": "stream",
     "text": [
      "150\n"
     ]
    }
   ],
   "source": [
    "import functools\n",
    "print(functools.reduce(lambda a,b:a+b,[10,20,30,40,50]))"
   ]
  },
  {
   "cell_type": "code",
   "execution_count": 14,
   "metadata": {},
   "outputs": [
    {
     "name": "stdout",
     "output_type": "stream",
     "text": [
      "180\n"
     ]
    }
   ],
   "source": [
    "import functools\n",
    "nums = [10,180,130,176,50]\n",
    "def max(a,b):\n",
    "    if a>b:\n",
    "        return a\n",
    "    else:\n",
    "        return b\n",
    "print(functools.reduce(max,nums))"
   ]
  },
  {
   "cell_type": "code",
   "execution_count": 17,
   "metadata": {},
   "outputs": [
    {
     "name": "stdout",
     "output_type": "stream",
     "text": [
      "185\n"
     ]
    }
   ],
   "source": [
    "import functools\n",
    "nums = [10,185,130,176,50]\n",
    "print(functools.reduce(lambda a,b:a if a>b else b,nums))"
   ]
  },
  {
   "cell_type": "markdown",
   "metadata": {},
   "source": [
    "RECURSION FUNCTION"
   ]
  },
  {
   "cell_type": "code",
   "execution_count": 14,
   "metadata": {},
   "outputs": [
    {
     "name": "stdout",
     "output_type": "stream",
     "text": [
      "1000\n",
      "200\n",
      "hello 1\n",
      "hello 2\n",
      "hello 3\n",
      "hello 4\n",
      "hello 5\n",
      "hello 6\n",
      "hello 7\n",
      "hello 8\n",
      "hello 9\n",
      "hello 10\n",
      "hello 11\n",
      "hello 12\n",
      "hello 13\n",
      "hello 14\n",
      "hello 15\n",
      "hello 16\n",
      "hello 17\n",
      "hello 18\n",
      "hello 19\n",
      "hello 20\n",
      "hello 21\n",
      "hello 22\n",
      "hello 23\n",
      "hello 24\n",
      "hello 25\n",
      "hello 26\n",
      "hello 27\n",
      "hello 28\n",
      "hello 29\n",
      "hello 30\n",
      "hello 31\n",
      "hello 32\n",
      "hello 33\n",
      "hello 34\n",
      "hello 35\n",
      "hello 36\n",
      "hello 37\n",
      "hello 38\n",
      "hello 39\n",
      "hello 40\n",
      "hello 41\n",
      "hello 42\n",
      "hello 43\n",
      "hello 44\n",
      "hello 45\n",
      "hello 46\n",
      "hello 47\n",
      "hello 48\n",
      "hello 49\n",
      "hello 50\n",
      "hello 51\n",
      "hello 52\n",
      "hello 53\n",
      "hello 54\n",
      "hello 55\n",
      "hello 56\n",
      "hello 57\n",
      "hello 58\n",
      "hello 59\n",
      "hello 60\n",
      "hello 61\n",
      "hello 62\n",
      "hello 63\n",
      "hello 64\n",
      "hello 65\n",
      "hello 66\n",
      "hello 67\n",
      "hello 68\n",
      "hello 69\n",
      "hello 70\n",
      "hello 71\n",
      "hello 72\n",
      "hello 73\n",
      "hello 74\n",
      "hello 75\n",
      "hello 76\n",
      "hello 77\n",
      "hello 78\n",
      "hello 79\n",
      "hello 80\n",
      "hello 81\n",
      "hello 82\n",
      "hello 83\n",
      "hello 84\n",
      "hello 85\n",
      "hello 86\n",
      "hello 87\n",
      "hello 88\n",
      "hello 89\n",
      "hello 90\n",
      "hello 91\n",
      "hello 92\n",
      "hello 93\n",
      "hello 94\n",
      "hello 95\n",
      "hello 96\n",
      "hello 97\n",
      "hello 98\n",
      "hello 99\n",
      "hello 100\n",
      "hello 101\n",
      "hello 102\n",
      "hello 103\n",
      "hello 104\n",
      "hello 105\n",
      "hello 106\n",
      "hello 107\n",
      "hello 108\n",
      "hello 109\n",
      "hello 110\n",
      "hello 111\n",
      "hello 112\n",
      "hello 113\n",
      "hello 114\n",
      "hello 115\n",
      "hello 116\n",
      "hello 117\n",
      "hello 118\n",
      "hello 119\n",
      "hello 120\n",
      "hello 121\n",
      "hello 122\n",
      "hello 123\n",
      "hello 124\n",
      "hello 125\n",
      "hello 126\n",
      "hello 127\n",
      "hello 128\n",
      "hello 129\n",
      "hello 130\n",
      "hello 131\n",
      "hello 132\n",
      "hello 133\n",
      "hello 134\n",
      "hello 135\n",
      "hello 136\n",
      "hello 137\n",
      "hello 138\n",
      "hello 139\n",
      "hello 140\n",
      "hello 141\n",
      "hello 142\n",
      "hello 143\n",
      "hello 144\n",
      "hello 145\n",
      "hello 146\n",
      "hello 147\n",
      "hello 148\n",
      "hello 149\n",
      "hello 150\n",
      "hello 151\n",
      "hello 152\n",
      "hello 153\n",
      "hello 154\n",
      "hello 155\n",
      "hello 156\n",
      "hello 157\n",
      "hello 158\n",
      "hello 159\n",
      "hello 160\n",
      "hello 161\n",
      "hello 162\n",
      "hello 163\n",
      "hello 164\n",
      "hello 165\n",
      "hello 166\n",
      "hello 167\n",
      "hello 168\n",
      "hello 169\n",
      "hello 170\n",
      "hello 171\n",
      "hello 172\n",
      "hello 173\n",
      "hello 174\n",
      "hello 175\n"
     ]
    },
    {
     "ename": "RecursionError",
     "evalue": "maximum recursion depth exceeded",
     "output_type": "error",
     "traceback": [
      "\u001b[1;31m---------------------------------------------------------------------------\u001b[0m",
      "\u001b[1;31mRecursionError\u001b[0m                            Traceback (most recent call last)",
      "Cell \u001b[1;32mIn[14], line 12\u001b[0m\n\u001b[0;32m      9\u001b[0m     \u001b[38;5;28mprint\u001b[39m(\u001b[38;5;124m\"\u001b[39m\u001b[38;5;124mhello\u001b[39m\u001b[38;5;124m\"\u001b[39m,i)\n\u001b[0;32m     10\u001b[0m     demo()\n\u001b[1;32m---> 12\u001b[0m \u001b[43mdemo\u001b[49m\u001b[43m(\u001b[49m\u001b[43m)\u001b[49m  \n",
      "Cell \u001b[1;32mIn[14], line 10\u001b[0m, in \u001b[0;36mdemo\u001b[1;34m()\u001b[0m\n\u001b[0;32m      8\u001b[0m i\u001b[38;5;241m=\u001b[39mi\u001b[38;5;241m+\u001b[39m\u001b[38;5;241m1\u001b[39m\n\u001b[0;32m      9\u001b[0m \u001b[38;5;28mprint\u001b[39m(\u001b[38;5;124m\"\u001b[39m\u001b[38;5;124mhello\u001b[39m\u001b[38;5;124m\"\u001b[39m,i)\n\u001b[1;32m---> 10\u001b[0m \u001b[43mdemo\u001b[49m\u001b[43m(\u001b[49m\u001b[43m)\u001b[49m\n",
      "Cell \u001b[1;32mIn[14], line 10\u001b[0m, in \u001b[0;36mdemo\u001b[1;34m()\u001b[0m\n\u001b[0;32m      8\u001b[0m i\u001b[38;5;241m=\u001b[39mi\u001b[38;5;241m+\u001b[39m\u001b[38;5;241m1\u001b[39m\n\u001b[0;32m      9\u001b[0m \u001b[38;5;28mprint\u001b[39m(\u001b[38;5;124m\"\u001b[39m\u001b[38;5;124mhello\u001b[39m\u001b[38;5;124m\"\u001b[39m,i)\n\u001b[1;32m---> 10\u001b[0m \u001b[43mdemo\u001b[49m\u001b[43m(\u001b[49m\u001b[43m)\u001b[49m\n",
      "    \u001b[1;31m[... skipping similar frames: demo at line 10 (172 times)]\u001b[0m\n",
      "Cell \u001b[1;32mIn[14], line 10\u001b[0m, in \u001b[0;36mdemo\u001b[1;34m()\u001b[0m\n\u001b[0;32m      8\u001b[0m i\u001b[38;5;241m=\u001b[39mi\u001b[38;5;241m+\u001b[39m\u001b[38;5;241m1\u001b[39m\n\u001b[0;32m      9\u001b[0m \u001b[38;5;28mprint\u001b[39m(\u001b[38;5;124m\"\u001b[39m\u001b[38;5;124mhello\u001b[39m\u001b[38;5;124m\"\u001b[39m,i)\n\u001b[1;32m---> 10\u001b[0m \u001b[43mdemo\u001b[49m\u001b[43m(\u001b[49m\u001b[43m)\u001b[49m\n",
      "Cell \u001b[1;32mIn[14], line 9\u001b[0m, in \u001b[0;36mdemo\u001b[1;34m()\u001b[0m\n\u001b[0;32m      7\u001b[0m \u001b[38;5;28;01mglobal\u001b[39;00m i\n\u001b[0;32m      8\u001b[0m i\u001b[38;5;241m=\u001b[39mi\u001b[38;5;241m+\u001b[39m\u001b[38;5;241m1\u001b[39m\n\u001b[1;32m----> 9\u001b[0m \u001b[38;5;28;43mprint\u001b[39;49m\u001b[43m(\u001b[49m\u001b[38;5;124;43m\"\u001b[39;49m\u001b[38;5;124;43mhello\u001b[39;49m\u001b[38;5;124;43m\"\u001b[39;49m\u001b[43m,\u001b[49m\u001b[43mi\u001b[49m\u001b[43m)\u001b[49m\n\u001b[0;32m     10\u001b[0m demo()\n",
      "File \u001b[1;32m~\\AppData\\Roaming\\Python\\Python313\\site-packages\\ipykernel\\iostream.py:664\u001b[0m, in \u001b[0;36mOutStream.write\u001b[1;34m(self, string)\u001b[0m\n\u001b[0;32m    655\u001b[0m \u001b[38;5;28;01mdef\u001b[39;00m \u001b[38;5;21mwrite\u001b[39m(\u001b[38;5;28mself\u001b[39m, string: \u001b[38;5;28mstr\u001b[39m) \u001b[38;5;241m-\u001b[39m\u001b[38;5;241m>\u001b[39m Optional[\u001b[38;5;28mint\u001b[39m]:  \u001b[38;5;66;03m# type:ignore[override]\u001b[39;00m\n\u001b[0;32m    656\u001b[0m \u001b[38;5;250m    \u001b[39m\u001b[38;5;124;03m\"\"\"Write to current stream after encoding if necessary\u001b[39;00m\n\u001b[0;32m    657\u001b[0m \n\u001b[0;32m    658\u001b[0m \u001b[38;5;124;03m    Returns\u001b[39;00m\n\u001b[1;32m   (...)\u001b[0m\n\u001b[0;32m    662\u001b[0m \n\u001b[0;32m    663\u001b[0m \u001b[38;5;124;03m    \"\"\"\u001b[39;00m\n\u001b[1;32m--> 664\u001b[0m     parent \u001b[38;5;241m=\u001b[39m \u001b[38;5;28;43mself\u001b[39;49m\u001b[38;5;241;43m.\u001b[39;49m\u001b[43mparent_header\u001b[49m\n\u001b[0;32m    666\u001b[0m     \u001b[38;5;28;01mif\u001b[39;00m \u001b[38;5;129;01mnot\u001b[39;00m \u001b[38;5;28misinstance\u001b[39m(string, \u001b[38;5;28mstr\u001b[39m):\n\u001b[0;32m    667\u001b[0m         msg \u001b[38;5;241m=\u001b[39m \u001b[38;5;124mf\u001b[39m\u001b[38;5;124m\"\u001b[39m\u001b[38;5;124mwrite() argument must be str, not \u001b[39m\u001b[38;5;132;01m{\u001b[39;00m\u001b[38;5;28mtype\u001b[39m(string)\u001b[38;5;132;01m}\u001b[39;00m\u001b[38;5;124m\"\u001b[39m  \u001b[38;5;66;03m# type:ignore[unreachable]\u001b[39;00m\n",
      "\u001b[1;31mRecursionError\u001b[0m: maximum recursion depth exceeded"
     ]
    }
   ],
   "source": [
    "import sys \n",
    "print(sys.getrecursionlimit())\n",
    "sys.setrecursionlimit(200)\n",
    "print(sys.getrecursionlimit())\n",
    "i=0\n",
    "def demo():\n",
    "    global i\n",
    "    i=i+1\n",
    "    print(\"hello\",i)\n",
    "    demo()\n",
    "    \n",
    "demo()  \n"
   ]
  },
  {
   "cell_type": "markdown",
   "metadata": {},
   "source": [
    "Factorial using in recursion"
   ]
  },
  {
   "cell_type": "code",
   "execution_count": 1,
   "metadata": {},
   "outputs": [
    {
     "name": "stdout",
     "output_type": "stream",
     "text": [
      "120\n"
     ]
    }
   ],
   "source": [
    "def fact(n):\n",
    "    if n==0:\n",
    "        return 1 \n",
    "    return n*fact(n-1)\n",
    "\n",
    "print(fact(5))"
   ]
  },
  {
   "cell_type": "code",
   "execution_count": 1,
   "metadata": {},
   "outputs": [
    {
     "name": "stdout",
     "output_type": "stream",
     "text": [
      "not prime number\n"
     ]
    }
   ],
   "source": [
    "#checking number is prime or not using recursion\n",
    "def prime(n,i):\n",
    "    if i==1:\n",
    "        return 1\n",
    "    \n",
    "    if n%i==0:\n",
    "            return 0\n",
    "        \n",
    "    return prime(n,i-1)\n",
    "\n",
    "n = int(input(\"enter the number: \"))\n",
    "ind = prime(n,n-1)\n",
    "if ind==1:\n",
    "    print(\"prime number\")\n",
    "if ind==0:\n",
    "    print(\"not prime number\")"
   ]
  },
  {
   "cell_type": "markdown",
   "metadata": {},
   "source": [
    "Basic type of recursion\n",
    "1) Direct Recursion\n",
    "2) Indirect Recursion"
   ]
  },
  {
   "cell_type": "code",
   "execution_count": 5,
   "metadata": {},
   "outputs": [
    {
     "name": "stdout",
     "output_type": "stream",
     "text": [
      "8\n",
      "7\n",
      "6\n",
      "5\n",
      "4\n",
      "3\n",
      "2\n",
      "1\n"
     ]
    }
   ],
   "source": [
    "n = int(input(\"enter the number: \"))\n",
    "\n",
    "def natural(n):\n",
    "    if n==0:\n",
    "        return\n",
    "    print(n)\n",
    "    return natural(n-1)\n",
    "\n",
    "natural(n)"
   ]
  },
  {
   "cell_type": "code",
   "execution_count": 3,
   "metadata": {},
   "outputs": [
    {
     "name": "stdout",
     "output_type": "stream",
     "text": [
      "10 9 8 7 6 5 4 3 2 1 0 "
     ]
    }
   ],
   "source": [
    "def num(n):\n",
    "    if n<=0:\n",
    "        return\n",
    "    print(n,end = \" \")\n",
    "    num1(n-1)\n",
    "\n",
    "def num1(n):\n",
    "    print(n,end = \" \")\n",
    "    num(n-1)\n",
    "    \n",
    "num1(10)"
   ]
  },
  {
   "cell_type": "code",
   "execution_count": 2,
   "metadata": {},
   "outputs": [
    {
     "name": "stdout",
     "output_type": "stream",
     "text": [
      "0\n",
      "1\n",
      "1\n",
      "2\n",
      "3\n",
      "5\n",
      "8\n",
      "13\n",
      "21\n",
      "34\n"
     ]
    }
   ],
   "source": [
    "#fibonacci series using recursion\n",
    "def fibo(n):\n",
    "    if n==1:\n",
    "        return 0\n",
    "    if n==2:\n",
    "        return 1\n",
    "    return(fibo(n-2)+fibo(n-1))\n",
    "n = int(input(\"enter the number: \"))\n",
    "for i in range(1,n+1):\n",
    "    print(fibo(i))"
   ]
  },
  {
   "cell_type": "markdown",
   "metadata": {},
   "source": [
    "NAMESPACE\n",
    "\n",
    "it is a collection of name's\n",
    "\n",
    "TYPES OF NAMESPACE:\n",
    "\n",
    "Built-in namespace\n",
    "\n",
    "Module level/global namespace\n",
    "\n",
    "Local namespace\n",
    "\n",
    "Enclosed Namespace"
   ]
  },
  {
   "cell_type": "markdown",
   "metadata": {},
   "source": [
    "LEGB RULE\n",
    "\n",
    "[Local,Enclosed,Global,Built-in]\n"
   ]
  },
  {
   "cell_type": "code",
   "execution_count": 6,
   "metadata": {},
   "outputs": [
    {
     "name": "stdout",
     "output_type": "stream",
     "text": [
      "20\n"
     ]
    }
   ],
   "source": [
    "def outer():\n",
    "    x=20\n",
    "    print(x) #local variable\n",
    "    \n",
    "outer()"
   ]
  },
  {
   "cell_type": "code",
   "execution_count": 7,
   "metadata": {},
   "outputs": [
    {
     "name": "stdout",
     "output_type": "stream",
     "text": [
      "20\n"
     ]
    }
   ],
   "source": [
    "x=100 #global variable\n",
    "def outer():\n",
    "    global x\n",
    "    x=x+20 #local variable\n",
    "    x=20\n",
    "    print(x)\n",
    "    \n",
    "outer()"
   ]
  },
  {
   "cell_type": "code",
   "execution_count": 9,
   "metadata": {},
   "outputs": [
    {
     "name": "stdout",
     "output_type": "stream",
     "text": [
      "200\n"
     ]
    }
   ],
   "source": [
    "x = 100 #global variable\n",
    "def outer():\n",
    "    x=20      #non-local variable\n",
    "    def inner():\n",
    "        nonlocal x\n",
    "        x=x+20\n",
    "        x=200     #local variable\n",
    "        print(x)\n",
    "    inner()\n",
    "\n",
    "outer()"
   ]
  },
  {
   "cell_type": "code",
   "execution_count": 15,
   "metadata": {},
   "outputs": [
    {
     "name": "stdout",
     "output_type": "stream",
     "text": [
      "non-local variable:  20\n",
      "local variable:  3000\n",
      "global variable:  100\n"
     ]
    }
   ],
   "source": [
    "x=100\n",
    "def outer():\n",
    "    x=20 \n",
    "    print(\"non-local variable: \",x)       #non-local variable\n",
    "    def inner():\n",
    "        x=3000\n",
    "        print(\"local variable: \",x)   #local variable\n",
    "    inner()\n",
    "    \n",
    "outer()\n",
    "print(\"global variable: \",x)           #global variable\n"
   ]
  },
  {
   "cell_type": "markdown",
   "metadata": {},
   "source": [
    "CLOSURE FUNCTION\n",
    "\n",
    "clusures is a technique by which data gets attached ti the code \n",
    "\n",
    "clusures are function object that remembers value in the enclosing scope even if they are not present in the memory"
   ]
  },
  {
   "cell_type": "code",
   "execution_count": 2,
   "metadata": {},
   "outputs": [
    {
     "name": "stdout",
     "output_type": "stream",
     "text": [
      "200\n"
     ]
    }
   ],
   "source": [
    "def outer():\n",
    "    \n",
    "    def inner():\n",
    "        x=200\n",
    "        return x\n",
    "    return inner\n",
    "\n",
    "inner=outer()\n",
    "print(inner())"
   ]
  },
  {
   "cell_type": "code",
   "execution_count": 5,
   "metadata": {},
   "outputs": [
    {
     "name": "stdout",
     "output_type": "stream",
     "text": [
      "heo\n",
      "hello\n"
     ]
    }
   ],
   "source": [
    "def outer():\n",
    "    def inner():\n",
    "        print(\"hello\")\n",
    "    return inner\n",
    "\n",
    "inner=outer()\n",
    "inner()"
   ]
  },
  {
   "cell_type": "code",
   "execution_count": 3,
   "metadata": {},
   "outputs": [
    {
     "name": "stdout",
     "output_type": "stream",
     "text": [
      "outer function\n",
      "byy\n"
     ]
    }
   ],
   "source": [
    "def outer():\n",
    "    x=100\n",
    "    print(\"outer function\")\n",
    "    def inner():\n",
    "        y=200\n",
    "        print(\"byy\")\n",
    "    inner()\n",
    "    \n",
    "outer()"
   ]
  },
  {
   "cell_type": "code",
   "execution_count": 4,
   "metadata": {},
   "outputs": [
    {
     "name": "stdout",
     "output_type": "stream",
     "text": [
      "hello\n",
      "world\n"
     ]
    }
   ],
   "source": [
    "def outer():\n",
    "    print(\"hello\")\n",
    "    def inner():\n",
    "        print(\"world\")\n",
    "    inner()\n",
    "    \n",
    "outer()"
   ]
  },
  {
   "cell_type": "markdown",
   "metadata": {},
   "source": [
    "DECORATOR FUNCTION"
   ]
  },
  {
   "cell_type": "code",
   "execution_count": 8,
   "metadata": {},
   "outputs": [
    {
     "name": "stdout",
     "output_type": "stream",
     "text": [
      "python\n",
      "java\n",
      "world\n"
     ]
    }
   ],
   "source": [
    "def decor(func):\n",
    "    def inner():\n",
    "        func()              #existing functionalities\n",
    "        print(\"world\")      #add new functionalities\n",
    "    return inner\n",
    "\n",
    "def printer():\n",
    "    print(\"python\")\n",
    "    print(\"java\")\n",
    "    \n",
    "printer = decor(printer)\n",
    "printer()"
   ]
  },
  {
   "cell_type": "code",
   "execution_count": 7,
   "metadata": {},
   "outputs": [
    {
     "name": "stdout",
     "output_type": "stream",
     "text": [
      "python\n",
      "java\n",
      "world\n"
     ]
    }
   ],
   "source": [
    "def decor(func):\n",
    "    def inner():\n",
    "        func()              #existing functionalities\n",
    "        print(\"world\")      #add new functionalities\n",
    "    return inner\n",
    "@decor\n",
    "def printer():\n",
    "    print(\"python\")\n",
    "    print(\"java\")\n",
    "\n",
    "printer()"
   ]
  },
  {
   "cell_type": "code",
   "execution_count": 13,
   "metadata": {},
   "outputs": [
    {
     "name": "stdout",
     "output_type": "stream",
     "text": [
      "18.0\n"
     ]
    }
   ],
   "source": [
    "#adddition \n",
    "def decor(addition):\n",
    "    def inner():\n",
    "        result=addition()\n",
    "        num3=float(input(\"enter third number: \"))\n",
    "        result=result+num3\n",
    "        return result\n",
    "    return inner\n",
    "\n",
    "def addition():\n",
    "    num1=float(input(\"enter the first number: \"))\n",
    "    num2=float(input(\"enter the second number: \"))\n",
    "    result=num1+num2\n",
    "    return result\n",
    "    \n",
    "adddition = decor(addition)\n",
    "print(adddition())"
   ]
  },
  {
   "cell_type": "code",
   "execution_count": 14,
   "metadata": {},
   "outputs": [
    {
     "name": "stdout",
     "output_type": "stream",
     "text": [
      "addition is: 18.0\n"
     ]
    }
   ],
   "source": [
    "#adddition \n",
    "def decor(addition):\n",
    "    def inner():\n",
    "        result=addition()\n",
    "        num3=float(input(\"enter third number: \"))\n",
    "        result=result+num3\n",
    "        return result\n",
    "    return inner\n",
    "@decor\n",
    "def addition():\n",
    "    num1=float(input(\"enter the first number: \"))\n",
    "    num2=float(input(\"enter the second number: \"))\n",
    "    result=num1+num2\n",
    "    return result\n",
    "    \n",
    "print(\"addition is:\",addition())"
   ]
  },
  {
   "cell_type": "code",
   "execution_count": null,
   "metadata": {},
   "outputs": [
    {
     "name": "stdout",
     "output_type": "stream",
     "text": [
      "['DHRUV', 'SINGH']\n"
     ]
    }
   ],
   "source": [
    "#multiple decorator +\n",
    "def decor1(func):\n",
    "    def inner():\n",
    "        return func().upper()\n",
    "    return inner\n",
    "\n",
    "def decor2(func):\n",
    "    def inner():\n",
    "        return func().split()\n",
    "    return inner\n",
    "\n",
    "def get_name():\n",
    "    nm = input(\"enter your name: \")\n",
    "    last_nm = input(\"enter your last name: \")\n",
    "    full_name = nm + \" \" + last_nm\n",
    "    return full_name\n",
    "\n",
    "get_name = decor2(decor1(get_name))\n",
    "print(get_name())"
   ]
  },
  {
   "cell_type": "code",
   "execution_count": 19,
   "metadata": {},
   "outputs": [
    {
     "name": "stdout",
     "output_type": "stream",
     "text": [
      "['RAGHAV', 'DWIVEDI']\n"
     ]
    }
   ],
   "source": [
    "#multiple decorator \n",
    "def decor1(func):\n",
    "    def inner():\n",
    "        return func().upper()\n",
    "    return inner\n",
    "\n",
    "def decor2(func):\n",
    "    def inner():\n",
    "        return func().split()\n",
    "    return inner\n",
    "\n",
    "@decor2\n",
    "@decor1\n",
    "def get_name():\n",
    "    nm = input(\"enter your name: \")\n",
    "    last_nm = input(\"enter your last name: \")\n",
    "    full_name = nm + \" \" + last_nm\n",
    "    return full_name\n",
    "\n",
    "print(get_name())"
   ]
  },
  {
   "cell_type": "code",
   "execution_count": 2,
   "metadata": {},
   "outputs": [
    {
     "name": "stdout",
     "output_type": "stream",
     "text": [
      "0.5\n",
      "cannot divide by zero\n",
      "0.016666666666666666\n",
      "cannot divide by zero\n",
      "0.06666666666666667\n"
     ]
    }
   ],
   "source": [
    "#One Decorator On Multiple Functions\n",
    "def decor(func):\n",
    "    def inner(*args):\n",
    "        for num in args[1:]:\n",
    "            if num==0:\n",
    "                return \"cannot divide by zero\"\n",
    "        return func(*args)\n",
    "    return inner\n",
    "\n",
    "@decor\n",
    "def division1(a,b):\n",
    "    return a/b\n",
    "\n",
    "@decor\n",
    "def division2(a,b,c):\n",
    "    return a/b/c\n",
    "\n",
    "print(division1(10,20))\n",
    "print(division1(10,0))\n",
    "print(division2(10,20,30))\n",
    "print(division2(10,20,0))\n",
    "print(division2(10,5,30))\n",
    "\n",
    "                \n"
   ]
  },
  {
   "cell_type": "code",
   "execution_count": 15,
   "metadata": {},
   "outputs": [
    {
     "name": "stdout",
     "output_type": "stream",
     "text": [
      "division is:  0.5\n"
     ]
    }
   ],
   "source": [
    "def divider(func):\n",
    "    def inner(num1,num2):\n",
    "        if num2==0:\n",
    "            return \"cannot divide by zero\"\n",
    "        return func(num1,num2)\n",
    "    return inner\n",
    "\n",
    "@divider\n",
    "def division(num1,num2):\n",
    "    print(\"division is: \",num1/num2)\n",
    "    \n",
    "division(10,0)\n",
    "\n",
    "\n"
   ]
  },
  {
   "cell_type": "markdown",
   "metadata": {},
   "source": [
    "PARTIAL FUNCTION"
   ]
  },
  {
   "cell_type": "code",
   "execution_count": 16,
   "metadata": {},
   "outputs": [
    {
     "name": "stdout",
     "output_type": "stream",
     "text": [
      "100\n"
     ]
    }
   ],
   "source": [
    "from functools import partial\n",
    "def add(a,b,c,d):\n",
    "    return a+b+c+d\n",
    "\n",
    "add = partial(add,10,20)\n",
    "print(add(30,40))"
   ]
  },
  {
   "cell_type": "code",
   "execution_count": 20,
   "metadata": {},
   "outputs": [
    {
     "name": "stdout",
     "output_type": "stream",
     "text": [
      "200\n"
     ]
    }
   ],
   "source": [
    "from functools import partial\n",
    "def add(n1,n2,n3,n4):\n",
    "    return n1+n2+n3+n4\n",
    "\n",
    "add = partial(add,n1=40,n2=20)\n",
    "print(add(n3=60,n4=80))"
   ]
  },
  {
   "cell_type": "markdown",
   "metadata": {},
   "source": [
    "GLOBAL FUNCTION"
   ]
  },
  {
   "cell_type": "code",
   "execution_count": 25,
   "metadata": {},
   "outputs": [
    {
     "name": "stdout",
     "output_type": "stream",
     "text": [
      "{'__name__': '__main__', '__doc__': 'Automatically created module for IPython interactive environment', '__package__': None, '__loader__': None, '__spec__': None, '__builtin__': <module 'builtins' (built-in)>, '__builtins__': <module 'builtins' (built-in)>, '_ih': ['', '#One Decorator On Multiple Functions\\ndef decor(func):\\n    def inner(*args):\\n        for num in args[1:]:\\n            if num==0:\\n                return \"cannot divide by zero\"\\n        return func(*args)\\n    return inner\\n\\n@decor\\ndef division1(a,b):\\n    return a/b\\n\\n@decor\\ndef division2(a,b,c):\\n    return a/b/c\\n\\nprint(division1(10,20))\\nprint(division1(10,0))\\nprint(division2(10,20,30))\\nprint(division2(10,20,0))\\nprint(division2(10,0,30))\\n\\n                ', '#One Decorator On Multiple Functions\\ndef decor(func):\\n    def inner(*args):\\n        for num in args[1:]:\\n            if num==0:\\n                return \"cannot divide by zero\"\\n        return func(*args)\\n    return inner\\n\\n@decor\\ndef division1(a,b):\\n    return a/b\\n\\n@decor\\ndef division2(a,b,c):\\n    return a/b/c\\n\\nprint(division1(10,20))\\nprint(division1(10,0))\\nprint(division2(10,20,30))\\nprint(division2(10,20,0))\\nprint(division2(10,5,30))\\n\\n                ', '#One Decorator On Multiple Functions\\ndef decor(func):\\n    def inner(*args):\\n        for num in args[1:]:\\n            if num==0:\\n                return \"cannot divide by zero\"\\n        return func(*args)\\n    return inner\\n\\n@decor\\ndef division1(a,b):\\n    div = (input(\"enter the number: \"))\\n    div1 = (input(\"enter the number: \"))\\n    return a/b\\n\\n@decor\\ndef division2(a,b,c):\\n    div2 = (input(\"enter the number: \"))\\n    div3 = (input(\"enter the number: \"))\\n    div4 = (input(\"enter the number: \"))\\n    return a/b/c\\n\\nprint(division1(div))\\nprint(division1(div1))\\nprint(division2(div2))\\nprint(division2(div3))\\nprint(division2(div4))', '#One Decorator On Multiple Functions\\ndef decor(func):\\n    def inner(*args):\\n        for num in args[1:]:\\n            if num==0:\\n                return \"cannot divide by zero\"\\n        return func(*args)\\n    return inner\\n\\n@decor\\ndef division1(a,b):\\n    div = input(\"enter the number: \")\\n    div1 = input(\"enter the number: \")\\n    return a/b\\n\\n@decor\\ndef division2(a,b,c):\\n    div2 = (input(\"enter the number: \"))\\n    div3 = (input(\"enter the number: \"))\\n    div4 = (input(\"enter the number: \"))\\n    return a/b/c\\n\\nprint(division1(div))\\nprint(division1(div1))\\nprint(division2(div2))\\nprint(division2(div3))\\nprint(division2(div4))', '#One Decorator On Multiple Functions\\ndef decor(func):\\n    def inner(*args):\\n        for num in args[1:]:\\n            if num==0:\\n                return \"cannot divide by zero\"\\n        return func(*args)\\n    return inner\\n\\n@decor\\ndef division1(a,b):\\n    div = input(\"enter the number: \")\\n    div1 = input(\"enter the number: \")\\n    return a/b\\n\\n@decor\\ndef division2(a,b,c):\\n    div2 = (input(\"enter the number: \"))\\n    div3 = (input(\"enter the number: \"))\\n    div4 = (input(\"enter the number: \"))\\n    return a/b/c\\n\\nprint(division1(a,b))\\nprint(division2(a,b,c))', 'def divider(func):\\n    def inner(num1,num2):\\n        if num2==0:\\n            return \"cannot divide by zero\"\\n        return func(num1,num2)\\ndef division(num1,num2):\\n    print(\"division is: \",num1/num2)\\n    \\ndivision(10,20)', 'def divider(func):\\n    def inner(num1,num2):\\n        if num2==0:\\n            return \"cannot divide by zero\"\\n        return func(num1,num2)\\ndef division(num1,num2):\\n    print(\"division is: \",num1/num2)\\n    \\ndivision(10,0)', 'def divider(func):\\n    def inner(num1,num2):\\n        if num2==0:\\n            return \"cannot divide by zero\"\\n        return func(num1,num2)\\n    return inner\\n\\n@divider\\ndef division(num1,num2):\\n    print(\"division is: \",num1/num2)\\n    \\ndivider(division)\\n    \\ndivision(10,0)', 'def divider(func):\\n    def inner(num1,num2):\\n        if num2==0:\\n            return \"cannot divide by zero\"\\n        return func(num1,num2)\\n    return inner\\n\\n@divider\\ndef division(num1,num2):\\n    print(\"division is: \",num1/num2)\\n    \\ndivision=divider(division)   \\ndivision(10,0)', 'def divider(func):\\n    def inner(num1,num2):\\n        if num2==0:\\n            return \"cannot divide by zero\"\\n        return func(num1,num2)\\n    return inner\\n\\n@divider\\ndef division(num1,num2):\\n    print(\"division is: \",num1/num2)\\n    \\ndivision=divider(division)   \\ndivision(10,0)\\n\\nprint(\"hello world\")', 'def divider(func):\\n    def inner(num1,num2):\\n        if num2==0:\\n            return \"cannot divide by zero\"\\n        return func(num1,num2)\\n    return inner\\n\\n\\ndef division(num1,num2):\\n    print(\"division is: \",num1/num2)\\n    \\ndivision=divider(division)   \\ndivision(10,0)\\n\\nprint(\"hello world\")', 'def divider(func):\\n    def inner(num1,num2):\\n        if num2==0:\\n            return \"cannot divide by zero\"\\n        return func(num1,num2)\\n    return inner\\n\\n@divider\\ndef division(num1,num2):\\n    print(\"division is: \",num1/num2)\\n    \\ndivision=divider(division)   \\ndivision(10,0)\\n\\nprint(\"hello world\")', 'def divider(func):\\n    def inner(num1,num2):\\n        if num2==0:\\n            return \"cannot divide by zero\"\\n        return func(num1,num2)\\n    return inner\\n\\n@divider\\ndef division(num1,num2):\\n    print(\"division is: \",num1/num2)\\n    \\ndivision=divider(division)   \\ndivision(10,0)', 'def divider(func):\\n    def inner(num1,num2):\\n        if num2==0:\\n            return \"cannot divide by zero\"\\n        return func(num1,num2)\\n    return inner\\n\\n@divider\\ndef division(num1,num2):\\n    print(\"division is: \",num1/num2)\\n    \\ndivision(10,0)', 'def divider(func):\\n    def inner(num1,num2):\\n        if num2==0:\\n            return \"cannot divide by zero\"\\n        return func(num1,num2)\\n    return inner\\n\\n@divider\\ndef division(num1,num2):\\n    print(\"division is: \",num1/num2)\\n    \\ndivision(10,0)\\ndivision(10,20)', 'from functools import partial\\ndef add(a,b,c,d):\\n    return a+b+c+d\\n\\nadd = partial(add,10,20)\\nprint(add(30,40))', 'from functools import partial\\ndef add(n1,n2,n3,n4):\\n    return n1+n2+n3+n4\\n\\nadd = partial(add,10,20)\\nprint(add(30,40))', 'from functools import partial\\ndef add(n1,n2,n3,n4):\\n    return n1+n2+n3+n4\\n\\nadd = partial(add,10,20)\\nprint(add(60,80))', 'from functools import partial\\ndef add(n1,n2,n3,n4):\\n    return n1+n2+n3+n4\\n\\nadd = partial(add,40,20)\\nprint(add(60,80))', 'from functools import partial\\ndef add(n1,n2,n3,n4):\\n    return n1+n2+n3+n4\\n\\nadd = partial(add,n1=40,n2=20)\\nprint(add(n3=60,n4=80))', 'a=10\\ndef new()', 'a=10\\ndef new()\\n    print(\"hyyyy\")\\n    \\nglobals()', 'a=10\\ndef new()\\n    print(\"hyyyy\")\\n    \\nglobals()', 'a=10\\ndef new():\\n    print(\"hyyyy\")\\n    \\nglobals()', 'a=10\\ndef new():\\n    print(\"hyyyy\")\\n    \\nprint(globals())'], '_oh': {8: 'cannot divide by zero', 9: 'cannot divide by zero', 13: 'cannot divide by zero', 14: 'cannot divide by zero', 24: {...}}, '_dh': [WindowsPath('d:/Programming/advanced python')], 'In': ['', '#One Decorator On Multiple Functions\\ndef decor(func):\\n    def inner(*args):\\n        for num in args[1:]:\\n            if num==0:\\n                return \"cannot divide by zero\"\\n        return func(*args)\\n    return inner\\n\\n@decor\\ndef division1(a,b):\\n    return a/b\\n\\n@decor\\ndef division2(a,b,c):\\n    return a/b/c\\n\\nprint(division1(10,20))\\nprint(division1(10,0))\\nprint(division2(10,20,30))\\nprint(division2(10,20,0))\\nprint(division2(10,0,30))\\n\\n                ', '#One Decorator On Multiple Functions\\ndef decor(func):\\n    def inner(*args):\\n        for num in args[1:]:\\n            if num==0:\\n                return \"cannot divide by zero\"\\n        return func(*args)\\n    return inner\\n\\n@decor\\ndef division1(a,b):\\n    return a/b\\n\\n@decor\\ndef division2(a,b,c):\\n    return a/b/c\\n\\nprint(division1(10,20))\\nprint(division1(10,0))\\nprint(division2(10,20,30))\\nprint(division2(10,20,0))\\nprint(division2(10,5,30))\\n\\n                ', '#One Decorator On Multiple Functions\\ndef decor(func):\\n    def inner(*args):\\n        for num in args[1:]:\\n            if num==0:\\n                return \"cannot divide by zero\"\\n        return func(*args)\\n    return inner\\n\\n@decor\\ndef division1(a,b):\\n    div = (input(\"enter the number: \"))\\n    div1 = (input(\"enter the number: \"))\\n    return a/b\\n\\n@decor\\ndef division2(a,b,c):\\n    div2 = (input(\"enter the number: \"))\\n    div3 = (input(\"enter the number: \"))\\n    div4 = (input(\"enter the number: \"))\\n    return a/b/c\\n\\nprint(division1(div))\\nprint(division1(div1))\\nprint(division2(div2))\\nprint(division2(div3))\\nprint(division2(div4))', '#One Decorator On Multiple Functions\\ndef decor(func):\\n    def inner(*args):\\n        for num in args[1:]:\\n            if num==0:\\n                return \"cannot divide by zero\"\\n        return func(*args)\\n    return inner\\n\\n@decor\\ndef division1(a,b):\\n    div = input(\"enter the number: \")\\n    div1 = input(\"enter the number: \")\\n    return a/b\\n\\n@decor\\ndef division2(a,b,c):\\n    div2 = (input(\"enter the number: \"))\\n    div3 = (input(\"enter the number: \"))\\n    div4 = (input(\"enter the number: \"))\\n    return a/b/c\\n\\nprint(division1(div))\\nprint(division1(div1))\\nprint(division2(div2))\\nprint(division2(div3))\\nprint(division2(div4))', '#One Decorator On Multiple Functions\\ndef decor(func):\\n    def inner(*args):\\n        for num in args[1:]:\\n            if num==0:\\n                return \"cannot divide by zero\"\\n        return func(*args)\\n    return inner\\n\\n@decor\\ndef division1(a,b):\\n    div = input(\"enter the number: \")\\n    div1 = input(\"enter the number: \")\\n    return a/b\\n\\n@decor\\ndef division2(a,b,c):\\n    div2 = (input(\"enter the number: \"))\\n    div3 = (input(\"enter the number: \"))\\n    div4 = (input(\"enter the number: \"))\\n    return a/b/c\\n\\nprint(division1(a,b))\\nprint(division2(a,b,c))', 'def divider(func):\\n    def inner(num1,num2):\\n        if num2==0:\\n            return \"cannot divide by zero\"\\n        return func(num1,num2)\\ndef division(num1,num2):\\n    print(\"division is: \",num1/num2)\\n    \\ndivision(10,20)', 'def divider(func):\\n    def inner(num1,num2):\\n        if num2==0:\\n            return \"cannot divide by zero\"\\n        return func(num1,num2)\\ndef division(num1,num2):\\n    print(\"division is: \",num1/num2)\\n    \\ndivision(10,0)', 'def divider(func):\\n    def inner(num1,num2):\\n        if num2==0:\\n            return \"cannot divide by zero\"\\n        return func(num1,num2)\\n    return inner\\n\\n@divider\\ndef division(num1,num2):\\n    print(\"division is: \",num1/num2)\\n    \\ndivider(division)\\n    \\ndivision(10,0)', 'def divider(func):\\n    def inner(num1,num2):\\n        if num2==0:\\n            return \"cannot divide by zero\"\\n        return func(num1,num2)\\n    return inner\\n\\n@divider\\ndef division(num1,num2):\\n    print(\"division is: \",num1/num2)\\n    \\ndivision=divider(division)   \\ndivision(10,0)', 'def divider(func):\\n    def inner(num1,num2):\\n        if num2==0:\\n            return \"cannot divide by zero\"\\n        return func(num1,num2)\\n    return inner\\n\\n@divider\\ndef division(num1,num2):\\n    print(\"division is: \",num1/num2)\\n    \\ndivision=divider(division)   \\ndivision(10,0)\\n\\nprint(\"hello world\")', 'def divider(func):\\n    def inner(num1,num2):\\n        if num2==0:\\n            return \"cannot divide by zero\"\\n        return func(num1,num2)\\n    return inner\\n\\n\\ndef division(num1,num2):\\n    print(\"division is: \",num1/num2)\\n    \\ndivision=divider(division)   \\ndivision(10,0)\\n\\nprint(\"hello world\")', 'def divider(func):\\n    def inner(num1,num2):\\n        if num2==0:\\n            return \"cannot divide by zero\"\\n        return func(num1,num2)\\n    return inner\\n\\n@divider\\ndef division(num1,num2):\\n    print(\"division is: \",num1/num2)\\n    \\ndivision=divider(division)   \\ndivision(10,0)\\n\\nprint(\"hello world\")', 'def divider(func):\\n    def inner(num1,num2):\\n        if num2==0:\\n            return \"cannot divide by zero\"\\n        return func(num1,num2)\\n    return inner\\n\\n@divider\\ndef division(num1,num2):\\n    print(\"division is: \",num1/num2)\\n    \\ndivision=divider(division)   \\ndivision(10,0)', 'def divider(func):\\n    def inner(num1,num2):\\n        if num2==0:\\n            return \"cannot divide by zero\"\\n        return func(num1,num2)\\n    return inner\\n\\n@divider\\ndef division(num1,num2):\\n    print(\"division is: \",num1/num2)\\n    \\ndivision(10,0)', 'def divider(func):\\n    def inner(num1,num2):\\n        if num2==0:\\n            return \"cannot divide by zero\"\\n        return func(num1,num2)\\n    return inner\\n\\n@divider\\ndef division(num1,num2):\\n    print(\"division is: \",num1/num2)\\n    \\ndivision(10,0)\\ndivision(10,20)', 'from functools import partial\\ndef add(a,b,c,d):\\n    return a+b+c+d\\n\\nadd = partial(add,10,20)\\nprint(add(30,40))', 'from functools import partial\\ndef add(n1,n2,n3,n4):\\n    return n1+n2+n3+n4\\n\\nadd = partial(add,10,20)\\nprint(add(30,40))', 'from functools import partial\\ndef add(n1,n2,n3,n4):\\n    return n1+n2+n3+n4\\n\\nadd = partial(add,10,20)\\nprint(add(60,80))', 'from functools import partial\\ndef add(n1,n2,n3,n4):\\n    return n1+n2+n3+n4\\n\\nadd = partial(add,40,20)\\nprint(add(60,80))', 'from functools import partial\\ndef add(n1,n2,n3,n4):\\n    return n1+n2+n3+n4\\n\\nadd = partial(add,n1=40,n2=20)\\nprint(add(n3=60,n4=80))', 'a=10\\ndef new()', 'a=10\\ndef new()\\n    print(\"hyyyy\")\\n    \\nglobals()', 'a=10\\ndef new()\\n    print(\"hyyyy\")\\n    \\nglobals()', 'a=10\\ndef new():\\n    print(\"hyyyy\")\\n    \\nglobals()', 'a=10\\ndef new():\\n    print(\"hyyyy\")\\n    \\nprint(globals())'], 'Out': {8: 'cannot divide by zero', 9: 'cannot divide by zero', 13: 'cannot divide by zero', 14: 'cannot divide by zero', 24: {...}}, 'get_ipython': <bound method InteractiveShell.get_ipython of <ipykernel.zmqshell.ZMQInteractiveShell object at 0x000001ECD974BC10>>, 'exit': <IPython.core.autocall.ZMQExitAutocall object at 0x000001ECD97906D0>, 'quit': <IPython.core.autocall.ZMQExitAutocall object at 0x000001ECD97906D0>, 'open': <function open at 0x000001ECD8190AF0>, '_': {...}, '__': 'cannot divide by zero', '___': 'cannot divide by zero', '__vsc_ipynb_file__': 'd:\\\\Programming\\\\advanced python\\\\Function.ipynb', '_i': 'a=10\\ndef new():\\n    print(\"hyyyy\")\\n    \\nglobals()', '_ii': 'a=10\\ndef new()\\n    print(\"hyyyy\")\\n    \\nglobals()', '_iii': 'a=10\\ndef new()\\n    print(\"hyyyy\")\\n    \\nglobals()', '_i1': '#One Decorator On Multiple Functions\\ndef decor(func):\\n    def inner(*args):\\n        for num in args[1:]:\\n            if num==0:\\n                return \"cannot divide by zero\"\\n        return func(*args)\\n    return inner\\n\\n@decor\\ndef division1(a,b):\\n    return a/b\\n\\n@decor\\ndef division2(a,b,c):\\n    return a/b/c\\n\\nprint(division1(10,20))\\nprint(division1(10,0))\\nprint(division2(10,20,30))\\nprint(division2(10,20,0))\\nprint(division2(10,0,30))\\n\\n                ', 'decor': <function decor at 0x000001ECDA997370>, 'division1': <function decor.<locals>.inner at 0x000001ECDA996EF0>, 'division2': <function decor.<locals>.inner at 0x000001ECD97E9240>, '_i2': '#One Decorator On Multiple Functions\\ndef decor(func):\\n    def inner(*args):\\n        for num in args[1:]:\\n            if num==0:\\n                return \"cannot divide by zero\"\\n        return func(*args)\\n    return inner\\n\\n@decor\\ndef division1(a,b):\\n    return a/b\\n\\n@decor\\ndef division2(a,b,c):\\n    return a/b/c\\n\\nprint(division1(10,20))\\nprint(division1(10,0))\\nprint(division2(10,20,30))\\nprint(division2(10,20,0))\\nprint(division2(10,5,30))\\n\\n                ', '_i3': '#One Decorator On Multiple Functions\\ndef decor(func):\\n    def inner(*args):\\n        for num in args[1:]:\\n            if num==0:\\n                return \"cannot divide by zero\"\\n        return func(*args)\\n    return inner\\n\\n@decor\\ndef division1(a,b):\\n    div = (input(\"enter the number: \"))\\n    div1 = (input(\"enter the number: \"))\\n    return a/b\\n\\n@decor\\ndef division2(a,b,c):\\n    div2 = (input(\"enter the number: \"))\\n    div3 = (input(\"enter the number: \"))\\n    div4 = (input(\"enter the number: \"))\\n    return a/b/c\\n\\nprint(division1(div))\\nprint(division1(div1))\\nprint(division2(div2))\\nprint(division2(div3))\\nprint(division2(div4))', '_i4': '#One Decorator On Multiple Functions\\ndef decor(func):\\n    def inner(*args):\\n        for num in args[1:]:\\n            if num==0:\\n                return \"cannot divide by zero\"\\n        return func(*args)\\n    return inner\\n\\n@decor\\ndef division1(a,b):\\n    div = input(\"enter the number: \")\\n    div1 = input(\"enter the number: \")\\n    return a/b\\n\\n@decor\\ndef division2(a,b,c):\\n    div2 = (input(\"enter the number: \"))\\n    div3 = (input(\"enter the number: \"))\\n    div4 = (input(\"enter the number: \"))\\n    return a/b/c\\n\\nprint(division1(div))\\nprint(division1(div1))\\nprint(division2(div2))\\nprint(division2(div3))\\nprint(division2(div4))', '_i5': '#One Decorator On Multiple Functions\\ndef decor(func):\\n    def inner(*args):\\n        for num in args[1:]:\\n            if num==0:\\n                return \"cannot divide by zero\"\\n        return func(*args)\\n    return inner\\n\\n@decor\\ndef division1(a,b):\\n    div = input(\"enter the number: \")\\n    div1 = input(\"enter the number: \")\\n    return a/b\\n\\n@decor\\ndef division2(a,b,c):\\n    div2 = (input(\"enter the number: \"))\\n    div3 = (input(\"enter the number: \"))\\n    div4 = (input(\"enter the number: \"))\\n    return a/b/c\\n\\nprint(division1(a,b))\\nprint(division2(a,b,c))', '_i6': 'def divider(func):\\n    def inner(num1,num2):\\n        if num2==0:\\n            return \"cannot divide by zero\"\\n        return func(num1,num2)\\ndef division(num1,num2):\\n    print(\"division is: \",num1/num2)\\n    \\ndivision(10,20)', 'divider': <function divider at 0x000001ECD9783AC0>, 'division': <function divider.<locals>.inner at 0x000001ECDA997AC0>, '_i7': 'def divider(func):\\n    def inner(num1,num2):\\n        if num2==0:\\n            return \"cannot divide by zero\"\\n        return func(num1,num2)\\ndef division(num1,num2):\\n    print(\"division is: \",num1/num2)\\n    \\ndivision(10,0)', '_i8': 'def divider(func):\\n    def inner(num1,num2):\\n        if num2==0:\\n            return \"cannot divide by zero\"\\n        return func(num1,num2)\\n    return inner\\n\\n@divider\\ndef division(num1,num2):\\n    print(\"division is: \",num1/num2)\\n    \\ndivider(division)\\n    \\ndivision(10,0)', '_8': 'cannot divide by zero', '_i9': 'def divider(func):\\n    def inner(num1,num2):\\n        if num2==0:\\n            return \"cannot divide by zero\"\\n        return func(num1,num2)\\n    return inner\\n\\n@divider\\ndef division(num1,num2):\\n    print(\"division is: \",num1/num2)\\n    \\ndivision=divider(division)   \\ndivision(10,0)', '_9': 'cannot divide by zero', '_i10': 'def divider(func):\\n    def inner(num1,num2):\\n        if num2==0:\\n            return \"cannot divide by zero\"\\n        return func(num1,num2)\\n    return inner\\n\\n@divider\\ndef division(num1,num2):\\n    print(\"division is: \",num1/num2)\\n    \\ndivision=divider(division)   \\ndivision(10,0)\\n\\nprint(\"hello world\")', '_i11': 'def divider(func):\\n    def inner(num1,num2):\\n        if num2==0:\\n            return \"cannot divide by zero\"\\n        return func(num1,num2)\\n    return inner\\n\\n\\ndef division(num1,num2):\\n    print(\"division is: \",num1/num2)\\n    \\ndivision=divider(division)   \\ndivision(10,0)\\n\\nprint(\"hello world\")', '_i12': 'def divider(func):\\n    def inner(num1,num2):\\n        if num2==0:\\n            return \"cannot divide by zero\"\\n        return func(num1,num2)\\n    return inner\\n\\n@divider\\ndef division(num1,num2):\\n    print(\"division is: \",num1/num2)\\n    \\ndivision=divider(division)   \\ndivision(10,0)\\n\\nprint(\"hello world\")', '_i13': 'def divider(func):\\n    def inner(num1,num2):\\n        if num2==0:\\n            return \"cannot divide by zero\"\\n        return func(num1,num2)\\n    return inner\\n\\n@divider\\ndef division(num1,num2):\\n    print(\"division is: \",num1/num2)\\n    \\ndivision=divider(division)   \\ndivision(10,0)', '_13': 'cannot divide by zero', '_i14': 'def divider(func):\\n    def inner(num1,num2):\\n        if num2==0:\\n            return \"cannot divide by zero\"\\n        return func(num1,num2)\\n    return inner\\n\\n@divider\\ndef division(num1,num2):\\n    print(\"division is: \",num1/num2)\\n    \\ndivision(10,0)', '_14': 'cannot divide by zero', '_i15': 'def divider(func):\\n    def inner(num1,num2):\\n        if num2==0:\\n            return \"cannot divide by zero\"\\n        return func(num1,num2)\\n    return inner\\n\\n@divider\\ndef division(num1,num2):\\n    print(\"division is: \",num1/num2)\\n    \\ndivision(10,0)\\ndivision(10,20)', '_i16': 'from functools import partial\\ndef add(a,b,c,d):\\n    return a+b+c+d\\n\\nadd = partial(add,10,20)\\nprint(add(30,40))', 'partial': <class 'functools.partial'>, 'add': functools.partial(<function add at 0x000001ECDA997910>, n1=40, n2=20), '_i17': 'from functools import partial\\ndef add(n1,n2,n3,n4):\\n    return n1+n2+n3+n4\\n\\nadd = partial(add,10,20)\\nprint(add(30,40))', '_i18': 'from functools import partial\\ndef add(n1,n2,n3,n4):\\n    return n1+n2+n3+n4\\n\\nadd = partial(add,10,20)\\nprint(add(60,80))', '_i19': 'from functools import partial\\ndef add(n1,n2,n3,n4):\\n    return n1+n2+n3+n4\\n\\nadd = partial(add,40,20)\\nprint(add(60,80))', '_i20': 'from functools import partial\\ndef add(n1,n2,n3,n4):\\n    return n1+n2+n3+n4\\n\\nadd = partial(add,n1=40,n2=20)\\nprint(add(n3=60,n4=80))', '_i21': 'a=10\\ndef new()', '_i22': 'a=10\\ndef new()\\n    print(\"hyyyy\")\\n    \\nglobals()', '_i23': 'a=10\\ndef new()\\n    print(\"hyyyy\")\\n    \\nglobals()', '_i24': 'a=10\\ndef new():\\n    print(\"hyyyy\")\\n    \\nglobals()', 'a': 10, 'new': <function new at 0x000001ECDA996050>, '_24': {...}, '_i25': 'a=10\\ndef new():\\n    print(\"hyyyy\")\\n    \\nprint(globals())'}\n"
     ]
    }
   ],
   "source": [
    "a=10\n",
    "def new():\n",
    "    print(\"hyyyy\")\n",
    "    \n",
    "print(globals())"
   ]
  },
  {
   "cell_type": "code",
   "execution_count": 26,
   "metadata": {},
   "outputs": [
    {
     "name": "stdout",
     "output_type": "stream",
     "text": [
      "10\n"
     ]
    }
   ],
   "source": [
    "a=10\n",
    "def new():\n",
    "    print(\"hyyyy\")\n",
    "    \n",
    "print(globals()['a']) #for accessing keys of dictionary"
   ]
  },
  {
   "cell_type": "code",
   "execution_count": 27,
   "metadata": {},
   "outputs": [
    {
     "name": "stdout",
     "output_type": "stream",
     "text": [
      "hyyyy\n",
      "10\n"
     ]
    }
   ],
   "source": [
    "a=10\n",
    "def new():\n",
    "    print(\"hyyyy\") \n",
    "    print(globals()['a'])\n",
    "    \n",
    "new()"
   ]
  },
  {
   "cell_type": "code",
   "execution_count": 28,
   "metadata": {},
   "outputs": [
    {
     "name": "stdout",
     "output_type": "stream",
     "text": [
      "hyyyy\n"
     ]
    }
   ],
   "source": [
    "a=10\n",
    "def new():\n",
    "    print(\"hyyyy\") \n",
    "    globals()['a']=1000\n",
    "    \n",
    "new()"
   ]
  },
  {
   "cell_type": "code",
   "execution_count": 31,
   "metadata": {},
   "outputs": [
    {
     "name": "stdout",
     "output_type": "stream",
     "text": [
      "hyyyy\n",
      "{'b': 100}\n"
     ]
    }
   ],
   "source": [
    "a=10\n",
    "def new():\n",
    "    print(\"hyyyy\") \n",
    "    b=100\n",
    "    print(locals())\n",
    "    globals()['a']=1000\n",
    "    \n",
    "new()"
   ]
  },
  {
   "cell_type": "code",
   "execution_count": 30,
   "metadata": {},
   "outputs": [
    {
     "name": "stdout",
     "output_type": "stream",
     "text": [
      "hyyyy\n",
      "100\n"
     ]
    }
   ],
   "source": [
    "a=10\n",
    "def new():\n",
    "    print(\"hyyyy\") \n",
    "    b=100\n",
    "    print(locals()['b'])\n",
    "    globals()['a']=1000\n",
    "    \n",
    "new()"
   ]
  }
 ],
 "metadata": {
  "kernelspec": {
   "display_name": "Python 3",
   "language": "python",
   "name": "python3"
  },
  "language_info": {
   "codemirror_mode": {
    "name": "ipython",
    "version": 3
   },
   "file_extension": ".py",
   "mimetype": "text/x-python",
   "name": "python",
   "nbconvert_exporter": "python",
   "pygments_lexer": "ipython3",
   "version": "3.10.11"
  }
 },
 "nbformat": 4,
 "nbformat_minor": 2
}
